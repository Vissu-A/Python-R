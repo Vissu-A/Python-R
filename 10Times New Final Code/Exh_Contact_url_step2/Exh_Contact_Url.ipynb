{
 "cells": [
  {
   "cell_type": "code",
   "execution_count": 5,
   "metadata": {},
   "outputs": [],
   "source": [
    "from bs4 import BeautifulSoup\n",
    "import requests\n",
    "import pandas as pd\n",
    "import time\n",
    "import re\n",
    "\n",
    "\n",
    "df = pd.read_csv(r'C:\\Users\\vadapala\\Desktop\\Exhibitor_New_60\\Exhibitor_new_60.csv')\n",
    "\n",
    "Exh_names = []\n",
    "Contact_urls = []\n",
    "\n",
    "for row in df.iterrows():\n",
    "    loc = row[1]['Exhibitor Location']\n",
    "    if (re.match(r'^[a-z A-Z ,]+[USA]$', str(loc).strip(), flags=0)):\n",
    "        url = row[1]['Exhibitor Url']\n",
    "        \n",
    "        if (type(url)) == str:\n",
    "            \n",
    "            name = row[1]['Exhibitor Name']\n",
    "            Exh_names.append(name)\n",
    "            \n",
    "            page = requests.get(url)\n",
    "            if (page):\n",
    "                html = BeautifulSoup(page.content, 'html.parser')\n",
    "                links = html.find_all('a')\n",
    "                for link in links:\n",
    "                    if(link.text in ['CONTACT', 'Contact Us', 'CONTACT US']):\n",
    "                        Contact_urls.append(url+'/'+link.get(\"href\").strip('/'))\n",
    "                        break\n",
    "            else:\n",
    "                Contact_urls.append(page)\n",
    "\n",
    "data = {'Exhibitor Name' : Exh_names, 'Contact Url' : Contact_urls}\n",
    "\n",
    "df = pd.DataFrame(data)\n",
    "# df.head()\n",
    "df.to_csv('Exh_Contact_Url.csv')"
   ]
  }
 ],
 "metadata": {
  "kernelspec": {
   "display_name": "Python 3",
   "language": "python",
   "name": "python3"
  },
  "language_info": {
   "codemirror_mode": {
    "name": "ipython",
    "version": 3
   },
   "file_extension": ".py",
   "mimetype": "text/x-python",
   "name": "python",
   "nbconvert_exporter": "python",
   "pygments_lexer": "ipython3",
   "version": "3.6.5"
  }
 },
 "nbformat": 4,
 "nbformat_minor": 2
}
