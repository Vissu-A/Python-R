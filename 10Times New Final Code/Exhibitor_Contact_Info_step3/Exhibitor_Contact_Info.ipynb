{
 "cells": [
  {
   "cell_type": "code",
   "execution_count": 1,
   "metadata": {},
   "outputs": [],
   "source": [
    "import pandas as pd\n",
    "import requests\n",
    "import re\n",
    "from bs4 import BeautifulSoup\n",
    "\n",
    "df = pd.read_csv(r'C:\\Users\\vadapala\\Desktop\\Exh_Contact_url\\Exh_Contact_Url.csv')\n",
    "\n",
    "\n",
    "Exh_name = []\n",
    "contact = []\n",
    "for row in df.iterrows():\n",
    "    url = row[1]['Contact Url']\n",
    "    \n",
    "    if (re.match(r'^((http|https)\\:\\/\\/)?[a-zA-Z0-9\\.\\/\\?\\:@\\-_=#]+\\.([a-zA-Z]){2,6}([a-zA-Z0-9\\.\\&\\/\\?\\:@\\-_=#])+/contact', str(url).strip(), flags=0)):\n",
    "        name = row[1]['Contact Url']\n",
    "        Exh_name.append(name)\n",
    "        page = requests.get(url)\n",
    "        html = BeautifulSoup(page.content, 'html.parser')\n",
    "        text = html.text.strip()\n",
    "        contact.append(text)\n",
    "\n",
    "data = {'Exhibitor Name' : Exh_name, 'Contact Info' : contact}\n",
    "\n",
    "df = pd.DataFrame(data)\n",
    "\n",
    "# df.head()\n",
    "\n",
    "df.to_csv('Exhibitor Contact Info.csv')\n",
    "        \n",
    "# print(Exh_name)\n",
    "# print(contact)\n",
    "\n",
    "# print(len(Exh_name))\n",
    "# print(len(contact))"
   ]
  }
 ],
 "metadata": {
  "kernelspec": {
   "display_name": "Python 3",
   "language": "python",
   "name": "python3"
  },
  "language_info": {
   "codemirror_mode": {
    "name": "ipython",
    "version": 3
   },
   "file_extension": ".py",
   "mimetype": "text/x-python",
   "name": "python",
   "nbconvert_exporter": "python",
   "pygments_lexer": "ipython3",
   "version": "3.6.5"
  }
 },
 "nbformat": 4,
 "nbformat_minor": 2
}
