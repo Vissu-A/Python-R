{
 "cells": [
  {
   "cell_type": "code",
   "execution_count": 3,
   "metadata": {
    "scrolled": true
   },
   "outputs": [
    {
     "name": "stdout",
     "output_type": "stream",
     "text": [
      "60\n",
      "60\n",
      "60\n"
     ]
    }
   ],
   "source": [
    "from selenium import webdriver\n",
    "from selenium.webdriver.common.keys import Keys\n",
    "from bs4 import BeautifulSoup\n",
    "import pandas as pd\n",
    "import time\n",
    "\n",
    "\n",
    "driver = webdriver.Firefox(executable_path = r'D:\\Downloads\\geckodriver.exe')\n",
    "\n",
    "driver.get(\"https://10times.com/hi-europe-ni/exhibitors\")\n",
    "\n",
    "driver.execute_script(\"window.scrollTo(0, document.body.scrollHeight);\")\n",
    "time.sleep(5)\n",
    "\n",
    "# print(driver.page_source)\n",
    "\n",
    "page = BeautifulSoup(driver.page_source, 'html.parser')\n",
    "\n",
    "# print(page)\n",
    "\n",
    "exh_blocks = page.find_all('div', attrs = {'class' : 'exhibitorsBlock'})\n",
    "\n",
    "Names = []\n",
    "Locations = []\n",
    "Urls = []\n",
    "\n",
    "for block in exh_blocks:\n",
    "    name = block.find('span', attrs = {'class' : 'exhibitorName'}).text.strip()\n",
    "    Names.append(name)\n",
    "    \n",
    "    location  = block.find('span', attrs = {'class' : 'f12 m-t5'})\n",
    "    if (location) != None:\n",
    "        Locations.append(location.text.strip())\n",
    "    else:\n",
    "        Locations.append('')\n",
    "        \n",
    "    url = block.find('a', attrs = {'class' : 'typeSort btn pull-right m-t15 f13 engageAction'})\n",
    "    if (url) != None:\n",
    "        href = url.get('href').strip()\n",
    "        Urls.append(href)\n",
    "    else:\n",
    "        Urls.append('')\n",
    "\n",
    "\n",
    "print(len(Names))\n",
    "print(len(Locations))\n",
    "print(len(Urls))\n",
    "\n",
    "data = {'Echibitor Name' : Names, 'Exhibitor Url' : Urls, 'Exhibitor Location' : Locations}\n",
    "\n",
    "df = pd.DataFrame(data)\n",
    "\n",
    "df.to_csv('Exhibitor_new_60.csv')\n",
    "\n",
    "driver.close()"
   ]
  }
 ],
 "metadata": {
  "kernelspec": {
   "display_name": "Python 3",
   "language": "python",
   "name": "python3"
  },
  "language_info": {
   "codemirror_mode": {
    "name": "ipython",
    "version": 3
   },
   "file_extension": ".py",
   "mimetype": "text/x-python",
   "name": "python",
   "nbconvert_exporter": "python",
   "pygments_lexer": "ipython3",
   "version": "3.6.5"
  }
 },
 "nbformat": 4,
 "nbformat_minor": 2
}
