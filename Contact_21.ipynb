{
 "cells": [
  {
   "cell_type": "code",
   "execution_count": 16,
   "metadata": {},
   "outputs": [],
   "source": [
    "from selenium import webdriver                      #open webdriver for specific browser\n",
    "from selenium.webdriver.common.keys import Keys     # for necessary browser action\n",
    "from selenium.webdriver.common.by import By         # For selecting html code\n",
    "import time   \n",
    "import pandas as pd\n",
    "\n",
    "# links = ['http://www.alaskomega.com','http://www.advancedenzymes.com']\n",
    "\n",
    "dataframe = pd.read_csv(r'C:\\Users\\vadapala\\Desktop\\exhibitors_All_UK.csv')\n",
    "\n",
    "links = dataframe['links']\n",
    "cname = list(dataframe['exh_name'])\n",
    "\n",
    "# print(cname)\n",
    "# print(type(cname))\n",
    "\n",
    "driver = webdriver.Firefox(executable_path = r'D:\\Downloads\\geckodriver.exe')\n",
    "\n",
    "con_links = []\n",
    "\n",
    "for link in links:\n",
    "#     print(link)\n",
    "    driver.get(link)\n",
    "    con_links.append(driver.find_element_by_link_text('Contact Us').get_attribute('href'))\n",
    "    \n",
    "# print(con_links)\n",
    "\n",
    "Contact = []\n",
    "for l in con_links:\n",
    "#     print(l)\n",
    "    driver.get(l)\n",
    "    time.sleep(10)\n",
    "    Contact.append(driver.find_element_by_css_selector('.vc_col-sm-4').text)\n",
    "    Contact.append(driver.find_element_by_class_name('wpb_wrapper').text)\n",
    "#     Contact.append(driver.find_element_by_class_name('col-4 no').text)\n",
    "    time.sleep(10)\n",
    "    \n",
    "data = {'Company_Name':cname,'Contact_url':con_links, 'Contact details':Contact}\n",
    "\n",
    "# for key, value in data.items():\n",
    "#     print(key,'----->',value)\n",
    "\n",
    "df = pd.DataFrame({ key:pd.Series(value) for key, value in data.items() })\n",
    "\n",
    "# df.head()\n",
    "\n",
    "df.to_csv('contacts.csv')"
   ]
  }
 ],
 "metadata": {
  "kernelspec": {
   "display_name": "Python 3",
   "language": "python",
   "name": "python3"
  },
  "language_info": {
   "codemirror_mode": {
    "name": "ipython",
    "version": 3
   },
   "file_extension": ".py",
   "mimetype": "text/x-python",
   "name": "python",
   "nbconvert_exporter": "python",
   "pygments_lexer": "ipython3",
   "version": "3.6.5"
  }
 },
 "nbformat": 4,
 "nbformat_minor": 2
}
