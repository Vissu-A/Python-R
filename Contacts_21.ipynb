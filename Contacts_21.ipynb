{
 "cells": [
  {
   "cell_type": "code",
   "execution_count": 25,
   "metadata": {},
   "outputs": [
    {
     "name": "stdout",
     "output_type": "stream",
     "text": [
      "['https://alaskomega.com/contact/', 'https://www.advancedenzymes.com/contact-us/']\n",
      "https://alaskomega.com/contact/\n",
      "https://www.advancedenzymes.com/contact-us/\n",
      "contact_url -----> ['https://alaskomega.com/contact/', 'https://www.advancedenzymes.com/contact-us/']\n",
      "Contact details -----> ['CONTACT INFORMATION\\nUS Headquarters\\nPhone: 1-740-622-0755\\nFax: 1-740-622-3231\\nEmail: sales@alaskomega.com\\nPO Box 640\\n656 Walnut Street\\nCoshocton, OH 43812 USA\\nEurope\\nAlaskOmega AG\\nAlte Steinhauserstrasse 1\\nCH-6330 Cham, Switzerland\\nPhone: + 41 44 711 9083\\nEmail: sales@alaskomega.com\\n EXCLUSIVE REPRESENTATION\\nIndia\\nRaj Nakra Associates\\n505, Millenium Plaza,\\nTower B, Sector – 27,\\nGurgaon – 122 002,\\nHaryana, India\\nPhone:+91 (124) 498 9898\\nFax:+91 (124) 408 3080\\nE-mail:info@rajnakraassociates.com\\nRepublic of Korea\\nBaeck Jung International\\n#201 (Sein Bldg. Seocho-dong) 63-5 Nambusunhwan-Ro\\n337 Ga-Gil, Seocho-Gu\\nSeoul, 137-865, Korea\\nPhone: +82-2-521-3282\\nFax:+82-2-521-3404\\nE-mail: alexlee@baeckjung.com', '', \"5th Floor, 'A' wing, Sun Magnetica LIC Service Road, Louiswadi, Thane (W) 400 604, India\\n+91-22-4170 3200\\n+ 91-22-25835159\\ninfo@advancedenzymes.com\", \"Asia\\nAmerica\\nEurope\\n5th Floor, 'A' wing, Sun Magnetica LIC Service Road, Louiswadi, Thane (W) 400 604, India\\n+91-22-4170 3200\\n+ 91-22-25835159\\ninfo@advancedenzymes.com\"]\n"
     ]
    }
   ],
   "source": [
    "from selenium import webdriver                      #open webdriver for specific browser\n",
    "from selenium.webdriver.common.keys import Keys     # for necessary browser action\n",
    "from selenium.webdriver.common.by import By         # For selecting html code\n",
    "import time   \n",
    "import pandas as pd\n",
    "\n",
    "links = ['http://www.alaskomega.com','http://www.advancedenzymes.com']\n",
    "\n",
    "driver = webdriver.Firefox(executable_path = r'D:\\Downloads\\geckodriver.exe')\n",
    "\n",
    "con_links = []\n",
    "\n",
    "for link in links:\n",
    "    driver.get(link)\n",
    "    con_links.append(driver.find_element_by_link_text('Contact Us').get_attribute('href'))\n",
    "    \n",
    "print(con_links)\n",
    "\n",
    "Contact = []\n",
    "for l in con_links:\n",
    "    print(l)\n",
    "    driver.get(l)\n",
    "    time.sleep(10)\n",
    "    Contact.append(driver.find_element_by_css_selector('.vc_col-sm-4').text)\n",
    "    Contact.append(driver.find_element_by_class_name('wpb_wrapper').text)\n",
    "    time.sleep(10)\n",
    "    \n",
    "data = {'contact_url':con_links, 'Contact details':Contact}\n",
    "\n",
    "for key, value in data.items():\n",
    "    print(key,'----->',value)\n",
    "\n",
    "# df = pd.DataFrame({ key:pd.Series(value) for key, value in data.items() })\n",
    "\n",
    "# # df.head()\n",
    "\n",
    "# df.to_csv('contacts.csv')"
   ]
  },
  {
   "cell_type": "code",
   "execution_count": null,
   "metadata": {},
   "outputs": [],
   "source": []
  }
 ],
 "metadata": {
  "kernelspec": {
   "display_name": "Python 3",
   "language": "python",
   "name": "python3"
  },
  "language_info": {
   "codemirror_mode": {
    "name": "ipython",
    "version": 3
   },
   "file_extension": ".py",
   "mimetype": "text/x-python",
   "name": "python",
   "nbconvert_exporter": "python",
   "pygments_lexer": "ipython3",
   "version": "3.6.5"
  }
 },
 "nbformat": 4,
 "nbformat_minor": 2
}
