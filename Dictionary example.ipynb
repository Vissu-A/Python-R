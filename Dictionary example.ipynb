{
 "cells": [
  {
   "cell_type": "markdown",
   "metadata": {},
   "source": [
    "# Dictionary(dict)\n",
    "\n",
    "# ---> Dictionary is an un-ordered collection, so insertion order is not preserved\n",
    "\n",
    "# ---> Dictionary stores the elements in the form of  'key:value'  pair"
   ]
  },
  {
   "cell_type": "markdown",
   "metadata": {},
   "source": [
    "# Creating dictionary\n",
    "\n",
    "# 1. By using '{}'"
   ]
  },
  {
   "cell_type": "code",
   "execution_count": 2,
   "metadata": {},
   "outputs": [
    {
     "data": {
      "text/plain": [
       "{'name': 'vissu',\n",
       " 'age': 28,\n",
       " 'skill': ['python', 'ML', 'mysql', 'mongodb', 'django', 'JS']}"
      ]
     },
     "execution_count": 2,
     "metadata": {},
     "output_type": "execute_result"
    }
   ],
   "source": [
    "d1 = {'name':'vissu', 'age':28, 'skill':['python', 'ML', 'mysql', 'mongodb', 'django', 'JS']}\n",
    "\n",
    "d1"
   ]
  },
  {
   "cell_type": "markdown",
   "metadata": {},
   "source": [
    "# We can use different datatypes as keys"
   ]
  },
  {
   "cell_type": "code",
   "execution_count": 4,
   "metadata": {},
   "outputs": [
    {
     "data": {
      "text/plain": [
       "{'name': 'kiran', 1: '27', 3.5: ['html', 'js', 'angular']}"
      ]
     },
     "execution_count": 4,
     "metadata": {},
     "output_type": "execute_result"
    }
   ],
   "source": [
    "d2 = {'name':'kiran',  1:'27',  3.5:['html','js','angular']}\n",
    "\n",
    "d2"
   ]
  },
  {
   "cell_type": "markdown",
   "metadata": {},
   "source": [
    "# 2. By using 'dict()' method"
   ]
  },
  {
   "cell_type": "code",
   "execution_count": 7,
   "metadata": {},
   "outputs": [
    {
     "data": {
      "text/plain": [
       "{'name': 'vissu', 'age': 25, 'edu': 'B.tech'}"
      ]
     },
     "execution_count": 7,
     "metadata": {},
     "output_type": "execute_result"
    }
   ],
   "source": [
    "listoftuples = [('name', 'vissu'), ('age',25), ('edu', 'B.tech')]\n",
    "\n",
    "d3 = dict(listoftuples)\n",
    "\n",
    "d3"
   ]
  },
  {
   "cell_type": "markdown",
   "metadata": {},
   "source": [
    "# Accessing elements in the dictionary"
   ]
  },
  {
   "cell_type": "markdown",
   "metadata": {},
   "source": [
    "# Method 1"
   ]
  },
  {
   "cell_type": "code",
   "execution_count": 25,
   "metadata": {},
   "outputs": [
    {
     "data": {
      "text/plain": [
       "'vissu'"
      ]
     },
     "execution_count": 25,
     "metadata": {},
     "output_type": "execute_result"
    }
   ],
   "source": [
    "mydict = {'name':'vissu', 'age':25, 'address':'Tenali'}\n",
    "\n",
    "\n",
    "# accessing name \n",
    "\n",
    "mydict['name']"
   ]
  },
  {
   "cell_type": "code",
   "execution_count": 26,
   "metadata": {},
   "outputs": [
    {
     "name": "stdout",
     "output_type": "stream",
     "text": [
      "25\n"
     ]
    }
   ],
   "source": [
    "print(mydict['age'])"
   ]
  },
  {
   "cell_type": "markdown",
   "metadata": {},
   "source": [
    "# It will give  'key Error'  if the given key is not in the dictionary"
   ]
  },
  {
   "cell_type": "code",
   "execution_count": 27,
   "metadata": {},
   "outputs": [
    {
     "ename": "KeyError",
     "evalue": "'qualification'",
     "output_type": "error",
     "traceback": [
      "\u001b[1;31m---------------------------------------------------------------------------\u001b[0m",
      "\u001b[1;31mKeyError\u001b[0m                                  Traceback (most recent call last)",
      "\u001b[1;32m<ipython-input-27-674358422d98>\u001b[0m in \u001b[0;36m<module>\u001b[1;34m\u001b[0m\n\u001b[1;32m----> 1\u001b[1;33m \u001b[0mmydict\u001b[0m\u001b[1;33m[\u001b[0m\u001b[1;34m'qualification'\u001b[0m\u001b[1;33m]\u001b[0m\u001b[1;33m\u001b[0m\u001b[0m\n\u001b[0m",
      "\u001b[1;31mKeyError\u001b[0m: 'qualification'"
     ]
    }
   ],
   "source": [
    "mydict['qualification']"
   ]
  },
  {
   "cell_type": "markdown",
   "metadata": {},
   "source": [
    "# Method 2"
   ]
  },
  {
   "cell_type": "code",
   "execution_count": 28,
   "metadata": {},
   "outputs": [
    {
     "name": "stdout",
     "output_type": "stream",
     "text": [
      "Tenali\n"
     ]
    }
   ],
   "source": [
    "print(mydict.get('address'))"
   ]
  },
  {
   "cell_type": "markdown",
   "metadata": {},
   "source": [
    "# get() method will give 'None' if the given key is not in the dictionary"
   ]
  },
  {
   "cell_type": "code",
   "execution_count": 29,
   "metadata": {},
   "outputs": [
    {
     "name": "stdout",
     "output_type": "stream",
     "text": [
      "None\n"
     ]
    }
   ],
   "source": [
    "print(mydict.get('qualification'))"
   ]
  },
  {
   "cell_type": "markdown",
   "metadata": {},
   "source": [
    "# Adding element to dictionary"
   ]
  },
  {
   "cell_type": "code",
   "execution_count": 30,
   "metadata": {},
   "outputs": [
    {
     "name": "stdout",
     "output_type": "stream",
     "text": [
      "Before adding:  {'name': 'vissu', 'age': 25, 'address': 'Tenali'}\n",
      "After adding:  {'name': 'vissu', 'age': 25, 'address': 'Tenali', 'qualification': 'B.Tech'}\n"
     ]
    }
   ],
   "source": [
    "print('Before adding: ', mydict)\n",
    "\n",
    "\n",
    "mydict['qualification'] = 'B.Tech'\n",
    "\n",
    "print('After adding: ', mydict)"
   ]
  },
  {
   "cell_type": "markdown",
   "metadata": {},
   "source": [
    "# Updating element in a dictionary"
   ]
  },
  {
   "cell_type": "code",
   "execution_count": 31,
   "metadata": {},
   "outputs": [
    {
     "name": "stdout",
     "output_type": "stream",
     "text": [
      "Before update:  {'name': 'vissu', 'age': 25, 'address': 'Tenali', 'qualification': 'B.Tech'}\n",
      "After update:  {'name': 'viswanadh', 'age': 25, 'address': 'Tenali', 'qualification': 'B.Tech'}\n"
     ]
    }
   ],
   "source": [
    "print('Before update: ', mydict)\n",
    "\n",
    "\n",
    "mydict['name'] = 'viswanadh'\n",
    "\n",
    "print('After update: ', mydict)"
   ]
  },
  {
   "cell_type": "markdown",
   "metadata": {},
   "source": [
    "# Removing or deleting elements from the dictionary"
   ]
  },
  {
   "cell_type": "code",
   "execution_count": 71,
   "metadata": {},
   "outputs": [
    {
     "name": "stdout",
     "output_type": "stream",
     "text": [
      "{'name': 'vissu', 'age': 25, 'course': 'AI', 'address': 'Tenali', 'mail': 'viswanadh.adapala.org@gmail.com'}\n"
     ]
    }
   ],
   "source": [
    "mydict1 = {'name':'vissu', 'age':25, 'course':'AI', 'address':'Tenali', 'mail':'viswanadh.adapala.org@gmail.com'}\n",
    "\n",
    "print(mydict1)"
   ]
  },
  {
   "cell_type": "markdown",
   "metadata": {},
   "source": [
    "# pop() method\n",
    "\n",
    "# ---> pop() method will take key of the element to be removed\n",
    "\n",
    "# ---> pop() method returns the removed element"
   ]
  },
  {
   "cell_type": "code",
   "execution_count": 72,
   "metadata": {},
   "outputs": [
    {
     "name": "stdout",
     "output_type": "stream",
     "text": [
      "removed element is:  25\n",
      "{'name': 'vissu', 'course': 'AI', 'address': 'Tenali', 'mail': 'viswanadh.adapala.org@gmail.com'}\n"
     ]
    }
   ],
   "source": [
    "ele = mydict1.pop('age')       # pop() will return the removed element\n",
    "\n",
    "print('removed element is: ', ele)\n",
    "\n",
    "print(mydict1)"
   ]
  },
  {
   "cell_type": "markdown",
   "metadata": {},
   "source": [
    "# popitem()\n",
    "\n",
    "# ---> popitem() will not take any parameter\n",
    "\n",
    "# ---> popitem() will remove an element randomly\n",
    "\n",
    "# ---> popitem() returns the removed element"
   ]
  },
  {
   "cell_type": "code",
   "execution_count": 73,
   "metadata": {},
   "outputs": [
    {
     "name": "stdout",
     "output_type": "stream",
     "text": [
      "Removed element:  ('mail', 'viswanadh.adapala.org@gmail.com')\n",
      "{'name': 'vissu', 'course': 'AI', 'address': 'Tenali'}\n"
     ]
    }
   ],
   "source": [
    "e = mydict1.popitem()               # popitem() method will not take any parameter\n",
    "\n",
    "print('Removed element: ',e)\n",
    "\n",
    "print(mydict1)"
   ]
  },
  {
   "cell_type": "markdown",
   "metadata": {},
   "source": [
    "# del\n",
    "\n",
    "# ---> del will not return the removed element"
   ]
  },
  {
   "cell_type": "code",
   "execution_count": 74,
   "metadata": {},
   "outputs": [
    {
     "data": {
      "text/plain": [
       "{'name': 'vissu', 'course': 'AI'}"
      ]
     },
     "execution_count": 74,
     "metadata": {},
     "output_type": "execute_result"
    }
   ],
   "source": [
    "del mydict1['address']\n",
    "\n",
    "mydict1"
   ]
  },
  {
   "cell_type": "markdown",
   "metadata": {},
   "source": [
    "# clear() \n",
    "\n",
    "# ---> clear() method will delete all the elements in a dictionary"
   ]
  },
  {
   "cell_type": "code",
   "execution_count": 75,
   "metadata": {},
   "outputs": [
    {
     "name": "stdout",
     "output_type": "stream",
     "text": [
      "mydict1 after clear:  {}\n"
     ]
    }
   ],
   "source": [
    "mydict1.clear()\n",
    "\n",
    "print('mydict1 after clear: ', mydict1)"
   ]
  },
  {
   "cell_type": "markdown",
   "metadata": {},
   "source": [
    "# Dictionary functions"
   ]
  },
  {
   "cell_type": "markdown",
   "metadata": {},
   "source": [
    "# copy()"
   ]
  },
  {
   "cell_type": "code",
   "execution_count": 1,
   "metadata": {},
   "outputs": [
    {
     "name": "stdout",
     "output_type": "stream",
     "text": [
      "{1: 1, 2: 8, 3: 27, 4: 64, 5: 125}\n"
     ]
    }
   ],
   "source": [
    "qubes = {1:1, 2:8, 3:27, 4:64, 5:125}\n",
    "\n",
    "new_dict = qubes.copy()\n",
    "\n",
    "print(new_dict)"
   ]
  },
  {
   "cell_type": "markdown",
   "metadata": {},
   "source": [
    "# fromkeys()"
   ]
  },
  {
   "cell_type": "code",
   "execution_count": 4,
   "metadata": {},
   "outputs": [
    {
     "name": "stdout",
     "output_type": "stream",
     "text": [
      "{'math': 0, 'physics': 0, 'english': 0}\n"
     ]
    }
   ],
   "source": [
    "marks = {}.fromkeys(['math', 'physics', 'english'], 0)\n",
    "\n",
    "print(marks)"
   ]
  },
  {
   "cell_type": "markdown",
   "metadata": {},
   "source": [
    "# items()"
   ]
  },
  {
   "cell_type": "code",
   "execution_count": 5,
   "metadata": {},
   "outputs": [
    {
     "data": {
      "text/plain": [
       "dict_items([('june', 50), ('july', 60), ('aug', 70)])"
      ]
     },
     "execution_count": 5,
     "metadata": {},
     "output_type": "execute_result"
    }
   ],
   "source": [
    "report = {'june':50, 'july':60, 'aug':70} \n",
    "\n",
    "report.items()"
   ]
  },
  {
   "cell_type": "markdown",
   "metadata": {},
   "source": [
    "# keys()"
   ]
  },
  {
   "cell_type": "code",
   "execution_count": 6,
   "metadata": {},
   "outputs": [
    {
     "data": {
      "text/plain": [
       "dict_keys(['june', 'july', 'aug'])"
      ]
     },
     "execution_count": 6,
     "metadata": {},
     "output_type": "execute_result"
    }
   ],
   "source": [
    "report.keys()"
   ]
  },
  {
   "cell_type": "markdown",
   "metadata": {},
   "source": [
    "# values()"
   ]
  },
  {
   "cell_type": "code",
   "execution_count": 7,
   "metadata": {},
   "outputs": [
    {
     "data": {
      "text/plain": [
       "dict_values([50, 60, 70])"
      ]
     },
     "execution_count": 7,
     "metadata": {},
     "output_type": "execute_result"
    }
   ],
   "source": [
    "report.values()"
   ]
  },
  {
   "cell_type": "markdown",
   "metadata": {},
   "source": [
    "# Iterating over dictionary"
   ]
  },
  {
   "cell_type": "code",
   "execution_count": 10,
   "metadata": {},
   "outputs": [
    {
     "name": "stdout",
     "output_type": "stream",
     "text": [
      "(2017, 50.3)\n",
      "(2018, 40.3)\n",
      "(2019, 60)\n"
     ]
    }
   ],
   "source": [
    "sales = {2017:50.3, 2018:40.3, 2019:60}\n",
    "\n",
    "for pair in sales.items():\n",
    "    print(pair)"
   ]
  },
  {
   "cell_type": "markdown",
   "metadata": {},
   "source": [
    "# Dict comprehension\n",
    "\n",
    "# Syntax:-\n",
    "\n",
    "#           {statement loop/loops condition}    ---> condition is optional"
   ]
  },
  {
   "cell_type": "code",
   "execution_count": 22,
   "metadata": {},
   "outputs": [
    {
     "name": "stdout",
     "output_type": "stream",
     "text": [
      "{'b': 2, 'd': 4, 'f': 6}\n"
     ]
    }
   ],
   "source": [
    "numdict = {'a':1, 'b':2, 'c':3, 'd':4, 'e':5, 'f':6, 'g':7}\n",
    "\n",
    "even_dict = {k:v for k,v in numdict.items() if v%2 == 0}\n",
    "\n",
    "print(even_dict)"
   ]
  },
  {
   "cell_type": "code",
   "execution_count": 23,
   "metadata": {},
   "outputs": [
    {
     "name": "stdout",
     "output_type": "stream",
     "text": [
      "{'b': 4, 'd': 16, 'f': 36}\n"
     ]
    }
   ],
   "source": [
    "even_squre_dict = {k:v**2 for k,v in numdict.items() if v%2 == 0}\n",
    "\n",
    "print(even_squre_dict)"
   ]
  },
  {
   "cell_type": "code",
   "execution_count": 24,
   "metadata": {},
   "outputs": [
    {
     "name": "stdout",
     "output_type": "stream",
     "text": [
      "{'a': 1, 'c': 3, 'e': 5, 'g': 7}\n"
     ]
    }
   ],
   "source": [
    "odd_dict = {k:v for k,v in numdict.items() if v%2 != 0}\n",
    "\n",
    "print(odd_dict)"
   ]
  },
  {
   "cell_type": "code",
   "execution_count": 25,
   "metadata": {},
   "outputs": [
    {
     "name": "stdout",
     "output_type": "stream",
     "text": [
      "{'a': 1, 'c': 27, 'e': 125, 'g': 343}\n"
     ]
    }
   ],
   "source": [
    "odd_qube_dict = {k:v**3 for k,v in numdict.items() if v%2 != 0}\n",
    "\n",
    "print(odd_qube_dict)"
   ]
  },
  {
   "cell_type": "code",
   "execution_count": null,
   "metadata": {},
   "outputs": [],
   "source": []
  }
 ],
 "metadata": {
  "kernelspec": {
   "display_name": "Python 3",
   "language": "python",
   "name": "python3"
  },
  "language_info": {
   "codemirror_mode": {
    "name": "ipython",
    "version": 3
   },
   "file_extension": ".py",
   "mimetype": "text/x-python",
   "name": "python",
   "nbconvert_exporter": "python",
   "pygments_lexer": "ipython3",
   "version": "3.6.5"
  }
 },
 "nbformat": 4,
 "nbformat_minor": 2
}
