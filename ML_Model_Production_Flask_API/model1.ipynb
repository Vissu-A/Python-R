{
 "cells": [
  {
   "cell_type": "markdown",
   "metadata": {},
   "source": [
    "###### Coronary Heart Disease (CHD) Using Logistic Regression"
   ]
  },
  {
   "cell_type": "code",
   "execution_count": 25,
   "metadata": {},
   "outputs": [],
   "source": [
    "import numpy as np\n",
    "import pandas as pd"
   ]
  },
  {
   "cell_type": "code",
   "execution_count": 26,
   "metadata": {},
   "outputs": [],
   "source": [
    "import statsmodels.api as sm\n",
    "import scipy.stats as st\n",
    "import matplotlib.pyplot as plt\n",
    "import seaborn as sns\n",
    "from sklearn.metrics import confusion_matrix\n",
    "import matplotlib.mlab as mlab\n",
    "%matplotlib inline"
   ]
  },
  {
   "cell_type": "code",
   "execution_count": 27,
   "metadata": {},
   "outputs": [],
   "source": [
    "chd = pd.read_csv('CHDdataP.csv')"
   ]
  },
  {
   "cell_type": "code",
   "execution_count": 28,
   "metadata": {},
   "outputs": [
    {
     "data": {
      "text/html": [
       "<div>\n",
       "<style scoped>\n",
       "    .dataframe tbody tr th:only-of-type {\n",
       "        vertical-align: middle;\n",
       "    }\n",
       "\n",
       "    .dataframe tbody tr th {\n",
       "        vertical-align: top;\n",
       "    }\n",
       "\n",
       "    .dataframe thead th {\n",
       "        text-align: right;\n",
       "    }\n",
       "</style>\n",
       "<table border=\"1\" class=\"dataframe\">\n",
       "  <thead>\n",
       "    <tr style=\"text-align: right;\">\n",
       "      <th></th>\n",
       "      <th>sex</th>\n",
       "      <th>age</th>\n",
       "      <th>education</th>\n",
       "      <th>currentSmoker</th>\n",
       "      <th>cigsPerDay</th>\n",
       "      <th>BPMeds</th>\n",
       "      <th>prevalentStroke</th>\n",
       "      <th>prevalentHyp</th>\n",
       "      <th>diabetes</th>\n",
       "      <th>totChol</th>\n",
       "      <th>sysBP</th>\n",
       "      <th>diaBP</th>\n",
       "      <th>BMI</th>\n",
       "      <th>heartRate</th>\n",
       "      <th>glucose</th>\n",
       "      <th>CHD</th>\n",
       "    </tr>\n",
       "  </thead>\n",
       "  <tbody>\n",
       "    <tr>\n",
       "      <th>0</th>\n",
       "      <td>1</td>\n",
       "      <td>39</td>\n",
       "      <td>4</td>\n",
       "      <td>0</td>\n",
       "      <td>0</td>\n",
       "      <td>0</td>\n",
       "      <td>0</td>\n",
       "      <td>0</td>\n",
       "      <td>0</td>\n",
       "      <td>195</td>\n",
       "      <td>106.0</td>\n",
       "      <td>70.0</td>\n",
       "      <td>26</td>\n",
       "      <td>80</td>\n",
       "      <td>77</td>\n",
       "      <td>0</td>\n",
       "    </tr>\n",
       "    <tr>\n",
       "      <th>1</th>\n",
       "      <td>0</td>\n",
       "      <td>46</td>\n",
       "      <td>2</td>\n",
       "      <td>0</td>\n",
       "      <td>0</td>\n",
       "      <td>0</td>\n",
       "      <td>0</td>\n",
       "      <td>0</td>\n",
       "      <td>0</td>\n",
       "      <td>250</td>\n",
       "      <td>121.0</td>\n",
       "      <td>81.0</td>\n",
       "      <td>28</td>\n",
       "      <td>95</td>\n",
       "      <td>76</td>\n",
       "      <td>0</td>\n",
       "    </tr>\n",
       "    <tr>\n",
       "      <th>2</th>\n",
       "      <td>1</td>\n",
       "      <td>48</td>\n",
       "      <td>1</td>\n",
       "      <td>1</td>\n",
       "      <td>20</td>\n",
       "      <td>0</td>\n",
       "      <td>0</td>\n",
       "      <td>0</td>\n",
       "      <td>0</td>\n",
       "      <td>245</td>\n",
       "      <td>127.5</td>\n",
       "      <td>80.0</td>\n",
       "      <td>25</td>\n",
       "      <td>75</td>\n",
       "      <td>70</td>\n",
       "      <td>0</td>\n",
       "    </tr>\n",
       "    <tr>\n",
       "      <th>3</th>\n",
       "      <td>0</td>\n",
       "      <td>61</td>\n",
       "      <td>3</td>\n",
       "      <td>1</td>\n",
       "      <td>30</td>\n",
       "      <td>0</td>\n",
       "      <td>0</td>\n",
       "      <td>1</td>\n",
       "      <td>0</td>\n",
       "      <td>225</td>\n",
       "      <td>150.0</td>\n",
       "      <td>95.0</td>\n",
       "      <td>28</td>\n",
       "      <td>65</td>\n",
       "      <td>103</td>\n",
       "      <td>1</td>\n",
       "    </tr>\n",
       "    <tr>\n",
       "      <th>4</th>\n",
       "      <td>0</td>\n",
       "      <td>46</td>\n",
       "      <td>3</td>\n",
       "      <td>1</td>\n",
       "      <td>23</td>\n",
       "      <td>0</td>\n",
       "      <td>0</td>\n",
       "      <td>0</td>\n",
       "      <td>0</td>\n",
       "      <td>285</td>\n",
       "      <td>130.0</td>\n",
       "      <td>84.0</td>\n",
       "      <td>23</td>\n",
       "      <td>85</td>\n",
       "      <td>85</td>\n",
       "      <td>0</td>\n",
       "    </tr>\n",
       "  </tbody>\n",
       "</table>\n",
       "</div>"
      ],
      "text/plain": [
       "   sex  age  education  currentSmoker  cigsPerDay  BPMeds  prevalentStroke  \\\n",
       "0    1   39          4              0           0       0                0   \n",
       "1    0   46          2              0           0       0                0   \n",
       "2    1   48          1              1          20       0                0   \n",
       "3    0   61          3              1          30       0                0   \n",
       "4    0   46          3              1          23       0                0   \n",
       "\n",
       "   prevalentHyp  diabetes  totChol  sysBP  diaBP  BMI  heartRate  glucose  CHD  \n",
       "0             0         0      195  106.0   70.0   26         80       77    0  \n",
       "1             0         0      250  121.0   81.0   28         95       76    0  \n",
       "2             0         0      245  127.5   80.0   25         75       70    0  \n",
       "3             1         0      225  150.0   95.0   28         65      103    1  \n",
       "4             0         0      285  130.0   84.0   23         85       85    0  "
      ]
     },
     "execution_count": 28,
     "metadata": {},
     "output_type": "execute_result"
    }
   ],
   "source": [
    "chd.head()"
   ]
  },
  {
   "cell_type": "code",
   "execution_count": 29,
   "metadata": {},
   "outputs": [],
   "source": [
    "#chd.info()"
   ]
  },
  {
   "cell_type": "code",
   "execution_count": 31,
   "metadata": {},
   "outputs": [
    {
     "data": {
      "text/html": [
       "<div>\n",
       "<style scoped>\n",
       "    .dataframe tbody tr th:only-of-type {\n",
       "        vertical-align: middle;\n",
       "    }\n",
       "\n",
       "    .dataframe tbody tr th {\n",
       "        vertical-align: top;\n",
       "    }\n",
       "\n",
       "    .dataframe thead th {\n",
       "        text-align: right;\n",
       "    }\n",
       "</style>\n",
       "<table border=\"1\" class=\"dataframe\">\n",
       "  <thead>\n",
       "    <tr style=\"text-align: right;\">\n",
       "      <th></th>\n",
       "      <th>const</th>\n",
       "      <th>sex</th>\n",
       "      <th>age</th>\n",
       "      <th>education</th>\n",
       "      <th>currentSmoker</th>\n",
       "      <th>cigsPerDay</th>\n",
       "      <th>BPMeds</th>\n",
       "      <th>prevalentStroke</th>\n",
       "      <th>prevalentHyp</th>\n",
       "      <th>diabetes</th>\n",
       "      <th>totChol</th>\n",
       "      <th>sysBP</th>\n",
       "      <th>diaBP</th>\n",
       "      <th>BMI</th>\n",
       "      <th>heartRate</th>\n",
       "      <th>glucose</th>\n",
       "      <th>CHD</th>\n",
       "    </tr>\n",
       "  </thead>\n",
       "  <tbody>\n",
       "    <tr>\n",
       "      <th>0</th>\n",
       "      <td>1.0</td>\n",
       "      <td>1</td>\n",
       "      <td>39</td>\n",
       "      <td>4</td>\n",
       "      <td>0</td>\n",
       "      <td>0</td>\n",
       "      <td>0</td>\n",
       "      <td>0</td>\n",
       "      <td>0</td>\n",
       "      <td>0</td>\n",
       "      <td>195</td>\n",
       "      <td>106.0</td>\n",
       "      <td>70.0</td>\n",
       "      <td>26</td>\n",
       "      <td>80</td>\n",
       "      <td>77</td>\n",
       "      <td>0</td>\n",
       "    </tr>\n",
       "    <tr>\n",
       "      <th>1</th>\n",
       "      <td>1.0</td>\n",
       "      <td>0</td>\n",
       "      <td>46</td>\n",
       "      <td>2</td>\n",
       "      <td>0</td>\n",
       "      <td>0</td>\n",
       "      <td>0</td>\n",
       "      <td>0</td>\n",
       "      <td>0</td>\n",
       "      <td>0</td>\n",
       "      <td>250</td>\n",
       "      <td>121.0</td>\n",
       "      <td>81.0</td>\n",
       "      <td>28</td>\n",
       "      <td>95</td>\n",
       "      <td>76</td>\n",
       "      <td>0</td>\n",
       "    </tr>\n",
       "    <tr>\n",
       "      <th>2</th>\n",
       "      <td>1.0</td>\n",
       "      <td>1</td>\n",
       "      <td>48</td>\n",
       "      <td>1</td>\n",
       "      <td>1</td>\n",
       "      <td>20</td>\n",
       "      <td>0</td>\n",
       "      <td>0</td>\n",
       "      <td>0</td>\n",
       "      <td>0</td>\n",
       "      <td>245</td>\n",
       "      <td>127.5</td>\n",
       "      <td>80.0</td>\n",
       "      <td>25</td>\n",
       "      <td>75</td>\n",
       "      <td>70</td>\n",
       "      <td>0</td>\n",
       "    </tr>\n",
       "    <tr>\n",
       "      <th>3</th>\n",
       "      <td>1.0</td>\n",
       "      <td>0</td>\n",
       "      <td>61</td>\n",
       "      <td>3</td>\n",
       "      <td>1</td>\n",
       "      <td>30</td>\n",
       "      <td>0</td>\n",
       "      <td>0</td>\n",
       "      <td>1</td>\n",
       "      <td>0</td>\n",
       "      <td>225</td>\n",
       "      <td>150.0</td>\n",
       "      <td>95.0</td>\n",
       "      <td>28</td>\n",
       "      <td>65</td>\n",
       "      <td>103</td>\n",
       "      <td>1</td>\n",
       "    </tr>\n",
       "    <tr>\n",
       "      <th>4</th>\n",
       "      <td>1.0</td>\n",
       "      <td>0</td>\n",
       "      <td>46</td>\n",
       "      <td>3</td>\n",
       "      <td>1</td>\n",
       "      <td>23</td>\n",
       "      <td>0</td>\n",
       "      <td>0</td>\n",
       "      <td>0</td>\n",
       "      <td>0</td>\n",
       "      <td>285</td>\n",
       "      <td>130.0</td>\n",
       "      <td>84.0</td>\n",
       "      <td>23</td>\n",
       "      <td>85</td>\n",
       "      <td>85</td>\n",
       "      <td>0</td>\n",
       "    </tr>\n",
       "  </tbody>\n",
       "</table>\n",
       "</div>"
      ],
      "text/plain": [
       "   const  sex  age  education  currentSmoker  cigsPerDay  BPMeds  \\\n",
       "0    1.0    1   39          4              0           0       0   \n",
       "1    1.0    0   46          2              0           0       0   \n",
       "2    1.0    1   48          1              1          20       0   \n",
       "3    1.0    0   61          3              1          30       0   \n",
       "4    1.0    0   46          3              1          23       0   \n",
       "\n",
       "   prevalentStroke  prevalentHyp  diabetes  totChol  sysBP  diaBP  BMI  \\\n",
       "0                0             0         0      195  106.0   70.0   26   \n",
       "1                0             0         0      250  121.0   81.0   28   \n",
       "2                0             0         0      245  127.5   80.0   25   \n",
       "3                0             1         0      225  150.0   95.0   28   \n",
       "4                0             0         0      285  130.0   84.0   23   \n",
       "\n",
       "   heartRate  glucose  CHD  \n",
       "0         80       77    0  \n",
       "1         95       76    0  \n",
       "2         75       70    0  \n",
       "3         65      103    1  \n",
       "4         85       85    0  "
      ]
     },
     "execution_count": 31,
     "metadata": {},
     "output_type": "execute_result"
    }
   ],
   "source": [
    "from statsmodels.tools import add_constant as add_constant\n",
    "chd_constant = add_constant(chd)\n",
    "chd_constant.head()"
   ]
  },
  {
   "cell_type": "code",
   "execution_count": null,
   "metadata": {},
   "outputs": [],
   "source": []
  },
  {
   "cell_type": "code",
   "execution_count": 32,
   "metadata": {},
   "outputs": [
    {
     "name": "stdout",
     "output_type": "stream",
     "text": [
      "Optimization terminated successfully.\n",
      "         Current function value: 0.379958\n",
      "         Iterations 7\n"
     ]
    },
    {
     "data": {
      "text/html": [
       "<table class=\"simpletable\">\n",
       "<caption>Logit Regression Results</caption>\n",
       "<tr>\n",
       "  <th>Dep. Variable:</th>        <td>CHD</td>       <th>  No. Observations:  </th>  <td>  4240</td>  \n",
       "</tr>\n",
       "<tr>\n",
       "  <th>Model:</th>               <td>Logit</td>      <th>  Df Residuals:      </th>  <td>  4224</td>  \n",
       "</tr>\n",
       "<tr>\n",
       "  <th>Method:</th>               <td>MLE</td>       <th>  Df Model:          </th>  <td>    15</td>  \n",
       "</tr>\n",
       "<tr>\n",
       "  <th>Date:</th>          <td>Thu, 14 Mar 2019</td> <th>  Pseudo R-squ.:     </th>  <td>0.1080</td>  \n",
       "</tr>\n",
       "<tr>\n",
       "  <th>Time:</th>              <td>20:36:01</td>     <th>  Log-Likelihood:    </th> <td> -1611.0</td> \n",
       "</tr>\n",
       "<tr>\n",
       "  <th>converged:</th>           <td>True</td>       <th>  LL-Null:           </th> <td> -1806.1</td> \n",
       "</tr>\n",
       "<tr>\n",
       "  <th> </th>                      <td> </td>        <th>  LLR p-value:       </th> <td>8.041e-74</td>\n",
       "</tr>\n",
       "</table>\n",
       "<table class=\"simpletable\">\n",
       "<tr>\n",
       "         <td></td>            <th>coef</th>     <th>std err</th>      <th>z</th>      <th>P>|z|</th>  <th>[0.025</th>    <th>0.975]</th>  \n",
       "</tr>\n",
       "<tr>\n",
       "  <th>const</th>           <td>   -7.7207</td> <td>    0.644</td> <td>  -11.990</td> <td> 0.000</td> <td>   -8.983</td> <td>   -6.459</td>\n",
       "</tr>\n",
       "<tr>\n",
       "  <th>sex</th>             <td>    0.5382</td> <td>    0.100</td> <td>    5.369</td> <td> 0.000</td> <td>    0.342</td> <td>    0.735</td>\n",
       "</tr>\n",
       "<tr>\n",
       "  <th>age</th>             <td>    0.0620</td> <td>    0.006</td> <td>   10.006</td> <td> 0.000</td> <td>    0.050</td> <td>    0.074</td>\n",
       "</tr>\n",
       "<tr>\n",
       "  <th>education</th>       <td>   -0.0149</td> <td>    0.045</td> <td>   -0.328</td> <td> 0.743</td> <td>   -0.104</td> <td>    0.074</td>\n",
       "</tr>\n",
       "<tr>\n",
       "  <th>currentSmoker</th>   <td>    0.0519</td> <td>    0.145</td> <td>    0.359</td> <td> 0.720</td> <td>   -0.232</td> <td>    0.335</td>\n",
       "</tr>\n",
       "<tr>\n",
       "  <th>cigsPerDay</th>      <td>    0.0179</td> <td>    0.006</td> <td>    3.171</td> <td> 0.002</td> <td>    0.007</td> <td>    0.029</td>\n",
       "</tr>\n",
       "<tr>\n",
       "  <th>BPMeds</th>          <td>    0.2445</td> <td>    0.219</td> <td>    1.117</td> <td> 0.264</td> <td>   -0.185</td> <td>    0.674</td>\n",
       "</tr>\n",
       "<tr>\n",
       "  <th>prevalentStroke</th> <td>    0.9932</td> <td>    0.441</td> <td>    2.253</td> <td> 0.024</td> <td>    0.129</td> <td>    1.857</td>\n",
       "</tr>\n",
       "<tr>\n",
       "  <th>prevalentHyp</th>    <td>    0.2261</td> <td>    0.128</td> <td>    1.763</td> <td> 0.078</td> <td>   -0.025</td> <td>    0.477</td>\n",
       "</tr>\n",
       "<tr>\n",
       "  <th>diabetes</th>        <td>    0.7345</td> <td>    0.225</td> <td>    3.263</td> <td> 0.001</td> <td>    0.293</td> <td>    1.176</td>\n",
       "</tr>\n",
       "<tr>\n",
       "  <th>totChol</th>         <td>    0.0018</td> <td>    0.001</td> <td>    1.840</td> <td> 0.066</td> <td>   -0.000</td> <td>    0.004</td>\n",
       "</tr>\n",
       "<tr>\n",
       "  <th>sysBP</th>           <td>    0.0147</td> <td>    0.004</td> <td>    4.166</td> <td> 0.000</td> <td>    0.008</td> <td>    0.022</td>\n",
       "</tr>\n",
       "<tr>\n",
       "  <th>diaBP</th>           <td>   -0.0037</td> <td>    0.006</td> <td>   -0.621</td> <td> 0.534</td> <td>   -0.015</td> <td>    0.008</td>\n",
       "</tr>\n",
       "<tr>\n",
       "  <th>BMI</th>             <td>    0.0029</td> <td>    0.012</td> <td>    0.243</td> <td> 0.808</td> <td>   -0.020</td> <td>    0.026</td>\n",
       "</tr>\n",
       "<tr>\n",
       "  <th>heartRate</th>       <td>   -0.0003</td> <td>    0.004</td> <td>   -0.075</td> <td> 0.940</td> <td>   -0.008</td> <td>    0.007</td>\n",
       "</tr>\n",
       "<tr>\n",
       "  <th>glucose</th>         <td>    0.0005</td> <td>    0.001</td> <td>    0.730</td> <td> 0.465</td> <td>   -0.001</td> <td>    0.002</td>\n",
       "</tr>\n",
       "</table>"
      ],
      "text/plain": [
       "<class 'statsmodels.iolib.summary.Summary'>\n",
       "\"\"\"\n",
       "                           Logit Regression Results                           \n",
       "==============================================================================\n",
       "Dep. Variable:                    CHD   No. Observations:                 4240\n",
       "Model:                          Logit   Df Residuals:                     4224\n",
       "Method:                           MLE   Df Model:                           15\n",
       "Date:                Thu, 14 Mar 2019   Pseudo R-squ.:                  0.1080\n",
       "Time:                        20:36:01   Log-Likelihood:                -1611.0\n",
       "converged:                       True   LL-Null:                       -1806.1\n",
       "                                        LLR p-value:                 8.041e-74\n",
       "===================================================================================\n",
       "                      coef    std err          z      P>|z|      [0.025      0.975]\n",
       "-----------------------------------------------------------------------------------\n",
       "const              -7.7207      0.644    -11.990      0.000      -8.983      -6.459\n",
       "sex                 0.5382      0.100      5.369      0.000       0.342       0.735\n",
       "age                 0.0620      0.006     10.006      0.000       0.050       0.074\n",
       "education          -0.0149      0.045     -0.328      0.743      -0.104       0.074\n",
       "currentSmoker       0.0519      0.145      0.359      0.720      -0.232       0.335\n",
       "cigsPerDay          0.0179      0.006      3.171      0.002       0.007       0.029\n",
       "BPMeds              0.2445      0.219      1.117      0.264      -0.185       0.674\n",
       "prevalentStroke     0.9932      0.441      2.253      0.024       0.129       1.857\n",
       "prevalentHyp        0.2261      0.128      1.763      0.078      -0.025       0.477\n",
       "diabetes            0.7345      0.225      3.263      0.001       0.293       1.176\n",
       "totChol             0.0018      0.001      1.840      0.066      -0.000       0.004\n",
       "sysBP               0.0147      0.004      4.166      0.000       0.008       0.022\n",
       "diaBP              -0.0037      0.006     -0.621      0.534      -0.015       0.008\n",
       "BMI                 0.0029      0.012      0.243      0.808      -0.020       0.026\n",
       "heartRate          -0.0003      0.004     -0.075      0.940      -0.008       0.007\n",
       "glucose             0.0005      0.001      0.730      0.465      -0.001       0.002\n",
       "===================================================================================\n",
       "\"\"\""
      ]
     },
     "execution_count": 32,
     "metadata": {},
     "output_type": "execute_result"
    }
   ],
   "source": [
    "st.chisqprob = lambda chisq, df: st.chi2.sf(chisq, df)\n",
    "cols=chd_constant.columns[:-1]\n",
    "model=sm.Logit(chd.CHD,chd_constant[cols])\n",
    "result=model.fit()\n",
    "result.summary()"
   ]
  },
  {
   "cell_type": "markdown",
   "metadata": {},
   "source": [
    "###### Automated Feature selection using back_feature_elem method"
   ]
  },
  {
   "cell_type": "code",
   "execution_count": 33,
   "metadata": {},
   "outputs": [],
   "source": [
    "def back_feature_elem (data_frame,dep_var,col_list):\n",
    "    \"\"\" Takes in the dataframe, the dependent variable and a list of column names, runs the regression repeatedly eleminating feature with the highest\n",
    "    P-value above alpha one at a time and returns the regression summary with all p-values below alpha\"\"\"\n",
    "\n",
    "    while len(col_list)>0 :\n",
    "        model=sm.Logit(dep_var,data_frame[col_list])\n",
    "        result=model.fit(disp=0)\n",
    "        largest_pvalue=round(result.pvalues,3).nlargest(1)\n",
    "        if largest_pvalue[0]<(0.05):\n",
    "            return result\n",
    "            break\n",
    "        else:\n",
    "            col_list=col_list.drop(largest_pvalue.index)\n",
    "\n",
    "result=back_feature_elem(chd_constant,chd.CHD,cols)"
   ]
  },
  {
   "cell_type": "code",
   "execution_count": 34,
   "metadata": {},
   "outputs": [
    {
     "data": {
      "text/html": [
       "<table class=\"simpletable\">\n",
       "<caption>Logit Regression Results</caption>\n",
       "<tr>\n",
       "  <th>Dep. Variable:</th>        <td>CHD</td>       <th>  No. Observations:  </th>  <td>  4240</td>  \n",
       "</tr>\n",
       "<tr>\n",
       "  <th>Model:</th>               <td>Logit</td>      <th>  Df Residuals:      </th>  <td>  4233</td>  \n",
       "</tr>\n",
       "<tr>\n",
       "  <th>Method:</th>               <td>MLE</td>       <th>  Df Model:          </th>  <td>     6</td>  \n",
       "</tr>\n",
       "<tr>\n",
       "  <th>Date:</th>          <td>Thu, 14 Mar 2019</td> <th>  Pseudo R-squ.:     </th>  <td>0.1054</td>  \n",
       "</tr>\n",
       "<tr>\n",
       "  <th>Time:</th>              <td>20:36:05</td>     <th>  Log-Likelihood:    </th> <td> -1615.7</td> \n",
       "</tr>\n",
       "<tr>\n",
       "  <th>converged:</th>           <td>True</td>       <th>  LL-Null:           </th> <td> -1806.1</td> \n",
       "</tr>\n",
       "<tr>\n",
       "  <th> </th>                      <td> </td>        <th>  LLR p-value:       </th> <td>3.664e-79</td>\n",
       "</tr>\n",
       "</table>\n",
       "<table class=\"simpletable\">\n",
       "<tr>\n",
       "         <td></td>            <th>coef</th>     <th>std err</th>      <th>z</th>      <th>P>|z|</th>  <th>[0.025</th>    <th>0.975]</th>  \n",
       "</tr>\n",
       "<tr>\n",
       "  <th>const</th>           <td>   -7.8720</td> <td>    0.372</td> <td>  -21.175</td> <td> 0.000</td> <td>   -8.601</td> <td>   -7.143</td>\n",
       "</tr>\n",
       "<tr>\n",
       "  <th>sex</th>             <td>    0.4983</td> <td>    0.097</td> <td>    5.157</td> <td> 0.000</td> <td>    0.309</td> <td>    0.688</td>\n",
       "</tr>\n",
       "<tr>\n",
       "  <th>age</th>             <td>    0.0646</td> <td>    0.006</td> <td>   10.925</td> <td> 0.000</td> <td>    0.053</td> <td>    0.076</td>\n",
       "</tr>\n",
       "<tr>\n",
       "  <th>cigsPerDay</th>      <td>    0.0196</td> <td>    0.004</td> <td>    5.207</td> <td> 0.000</td> <td>    0.012</td> <td>    0.027</td>\n",
       "</tr>\n",
       "<tr>\n",
       "  <th>prevalentStroke</th> <td>    1.0665</td> <td>    0.436</td> <td>    2.446</td> <td> 0.014</td> <td>    0.212</td> <td>    1.921</td>\n",
       "</tr>\n",
       "<tr>\n",
       "  <th>diabetes</th>        <td>    0.7932</td> <td>    0.217</td> <td>    3.658</td> <td> 0.000</td> <td>    0.368</td> <td>    1.218</td>\n",
       "</tr>\n",
       "<tr>\n",
       "  <th>sysBP</th>           <td>    0.0173</td> <td>    0.002</td> <td>    8.668</td> <td> 0.000</td> <td>    0.013</td> <td>    0.021</td>\n",
       "</tr>\n",
       "</table>"
      ],
      "text/plain": [
       "<class 'statsmodels.iolib.summary.Summary'>\n",
       "\"\"\"\n",
       "                           Logit Regression Results                           \n",
       "==============================================================================\n",
       "Dep. Variable:                    CHD   No. Observations:                 4240\n",
       "Model:                          Logit   Df Residuals:                     4233\n",
       "Method:                           MLE   Df Model:                            6\n",
       "Date:                Thu, 14 Mar 2019   Pseudo R-squ.:                  0.1054\n",
       "Time:                        20:36:05   Log-Likelihood:                -1615.7\n",
       "converged:                       True   LL-Null:                       -1806.1\n",
       "                                        LLR p-value:                 3.664e-79\n",
       "===================================================================================\n",
       "                      coef    std err          z      P>|z|      [0.025      0.975]\n",
       "-----------------------------------------------------------------------------------\n",
       "const              -7.8720      0.372    -21.175      0.000      -8.601      -7.143\n",
       "sex                 0.4983      0.097      5.157      0.000       0.309       0.688\n",
       "age                 0.0646      0.006     10.925      0.000       0.053       0.076\n",
       "cigsPerDay          0.0196      0.004      5.207      0.000       0.012       0.027\n",
       "prevalentStroke     1.0665      0.436      2.446      0.014       0.212       1.921\n",
       "diabetes            0.7932      0.217      3.658      0.000       0.368       1.218\n",
       "sysBP               0.0173      0.002      8.668      0.000       0.013       0.021\n",
       "===================================================================================\n",
       "\"\"\""
      ]
     },
     "execution_count": 34,
     "metadata": {},
     "output_type": "execute_result"
    }
   ],
   "source": [
    "result.summary()"
   ]
  },
  {
   "cell_type": "markdown",
   "metadata": {},
   "source": [
    "###### slected veriables after Feature Engineering\n",
    "sex\n",
    "age\n",
    "cigsPerDay\n",
    "prevalentStroke\n",
    "diabetes\n",
    "sysBP"
   ]
  },
  {
   "cell_type": "markdown",
   "metadata": {},
   "source": [
    "###### Splitting data to train and test split"
   ]
  },
  {
   "cell_type": "code",
   "execution_count": 37,
   "metadata": {},
   "outputs": [],
   "source": [
    "import sklearn\n",
    "new_features=chd[['sex','age','cigsPerDay','prevalentStroke','sysBP','diabetes','CHD']]\n",
    "x=new_features.iloc[:,:-1]\n",
    "y=new_features.iloc[:,-1]\n",
    "\n",
    "#from sklearn.cross_validation import train_test_split\n",
    "from sklearn.model_selection import train_test_split\n",
    "x_train,x_test,y_train,y_test=train_test_split(x,y,test_size=.30,random_state=5)"
   ]
  },
  {
   "cell_type": "code",
   "execution_count": 63,
   "metadata": {},
   "outputs": [
    {
     "name": "stdout",
     "output_type": "stream",
     "text": [
      "[0 0 0 ... 0 0 0]\n"
     ]
    }
   ],
   "source": [
    "from sklearn.linear_model import LogisticRegression\n",
    "\n",
    "logreg=LogisticRegression()\n",
    "logreg.fit(x_train,y_train)\n",
    "y_pred=logreg.predict(x_test)\n",
    "print(y_pred)\n",
    "pdict = {\"key\":y_pred}\n",
    "pdf = pd.DataFrame(pdict, index=None)\n",
    "pdf.to_csv(\"predict1.csv\")"
   ]
  },
  {
   "cell_type": "code",
   "execution_count": 65,
   "metadata": {},
   "outputs": [
    {
     "data": {
      "text/plain": [
       "array([[1076,    2],\n",
       "       [ 184,   10]], dtype=int64)"
      ]
     },
     "execution_count": 65,
     "metadata": {},
     "output_type": "execute_result"
    }
   ],
   "source": [
    "from sklearn.metrics import confusion_matrix\n",
    "cm=confusion_matrix(y_test,y_pred)\n",
    "cm"
   ]
  },
  {
   "cell_type": "markdown",
   "metadata": {},
   "source": [
    "###### The confusion matrix shows 714+6 = 720 correct predictions and 127+1= 128 incorrect ones"
   ]
  },
  {
   "cell_type": "code",
   "execution_count": 13,
   "metadata": {},
   "outputs": [],
   "source": [
    "#logreg Model Using Joblib And Pickle"
   ]
  },
  {
   "cell_type": "code",
   "execution_count": 66,
   "metadata": {},
   "outputs": [],
   "source": [
    "import pickle\n",
    "from sklearn.metrics import classification_report"
   ]
  },
  {
   "cell_type": "code",
   "execution_count": 67,
   "metadata": {},
   "outputs": [],
   "source": [
    "pickle.dump(logreg, open(\"logreg.pkl\",\"wb\"))"
   ]
  },
  {
   "cell_type": "code",
   "execution_count": 68,
   "metadata": {},
   "outputs": [],
   "source": [
    "my_logit = pickle.load(open(\"logreg.pkl\",\"rb\"))"
   ]
  },
  {
   "cell_type": "code",
   "execution_count": 69,
   "metadata": {},
   "outputs": [
    {
     "data": {
      "text/plain": [
       "LogisticRegression(C=1.0, class_weight=None, dual=False, fit_intercept=True,\n",
       "          intercept_scaling=1, max_iter=100, multi_class='ovr', n_jobs=1,\n",
       "          penalty='l2', random_state=None, solver='liblinear', tol=0.0001,\n",
       "          verbose=0, warm_start=False)"
      ]
     },
     "execution_count": 69,
     "metadata": {},
     "output_type": "execute_result"
    }
   ],
   "source": [
    "my_logit"
   ]
  },
  {
   "cell_type": "code",
   "execution_count": 70,
   "metadata": {},
   "outputs": [
    {
     "name": "stdout",
     "output_type": "stream",
     "text": [
      "             precision    recall  f1-score   support\n",
      "\n",
      "          0       0.85      1.00      0.92      1078\n",
      "          1       0.83      0.05      0.10       194\n",
      "\n",
      "avg / total       0.85      0.85      0.79      1272\n",
      "\n"
     ]
    }
   ],
   "source": [
    "print(classification_report(y_test,my_logit.predict(x_test)))"
   ]
  },
  {
   "cell_type": "code",
   "execution_count": 19,
   "metadata": {},
   "outputs": [],
   "source": [
    "#next we will start a flask service . That is in the file 'chdpr.ipynb' ro chdpr.py\n",
    "\n",
    "#Once its started, we can use this bit of code to call it"
   ]
  },
  {
   "cell_type": "code",
   "execution_count": 88,
   "metadata": {
    "scrolled": true
   },
   "outputs": [
    {
     "name": "stdout",
     "output_type": "stream",
     "text": [
      "[{\"sex\":0,\"age\":66,\"cigsPerDay\":0,\"prevalentStroke\":0,\"diabetes\":0,\"sysBP\":166.0},{\"sex\":0,\"age\":54,\"cigsPerDay\":0,\"prevalentStroke\":0,\"diabetes\":0,\"sysBP\":143.5},{\"sex\":0,\"age\":39,\"cigsPerDay\":0,\"prevalentStroke\":0,\"diabetes\":0,\"sysBP\":161.0},{\"sex\":1,\"age\":44,\"cigsPerDay\":20,\"prevalentStroke\":0,\"diabetes\":0,\"sysBP\":135.0},{\"sex\":0,\"age\":64,\"cigsPerDay\":0,\"prevalentStroke\":0,\"diabetes\":0,\"sysBP\":185.0},{\"sex\":0,\"age\":44,\"cigsPerDay\":9,\"prevalentStroke\":0,\"diabetes\":0,\"sysBP\":128.0},{\"sex\":0,\"age\":63,\"cigsPerDay\":20,\"prevalentStroke\":0,\"diabetes\":0,\"sysBP\":136.0},{\"sex\":0,\"age\":42,\"cigsPerDay\":0,\"prevalentStroke\":0,\"diabetes\":0,\"sysBP\":129.0},{\"sex\":1,\"age\":55,\"cigsPerDay\":0,\"prevalentStroke\":0,\"diabetes\":0,\"sysBP\":134.0},{\"sex\":1,\"age\":43,\"cigsPerDay\":0,\"prevalentStroke\":0,\"diabetes\":0,\"sysBP\":115.0},{\"sex\":1,\"age\":66,\"cigsPerDay\":18,\"prevalentStroke\":0,\"diabetes\":0,\"sysBP\":142.0},{\"sex\":0,\"age\":40,\"cigsPerDay\":1,\"prevalentStroke\":0,\"diabetes\":0,\"sysBP\":135.0},{\"sex\":1,\"age\":60,\"cigsPerDay\":0,\"prevalentStroke\":0,\"diabetes\":0,\"sysBP\":160.5},{\"sex\":0,\"age\":43,\"cigsPerDay\":5,\"prevalentStroke\":0,\"diabetes\":0,\"sysBP\":121.0},{\"sex\":0,\"age\":58,\"cigsPerDay\":0,\"prevalentStroke\":0,\"diabetes\":0,\"sysBP\":158.0},{\"sex\":1,\"age\":47,\"cigsPerDay\":15,\"prevalentStroke\":0,\"diabetes\":1,\"sysBP\":163.5},{\"sex\":1,\"age\":53,\"cigsPerDay\":0,\"prevalentStroke\":0,\"diabetes\":0,\"sysBP\":140.5},{\"sex\":0,\"age\":40,\"cigsPerDay\":0,\"prevalentStroke\":0,\"diabetes\":0,\"sysBP\":131.0},{\"sex\":0,\"age\":46,\"cigsPerDay\":0,\"prevalentStroke\":0,\"diabetes\":0,\"sysBP\":131.5},{\"sex\":0,\"age\":46,\"cigsPerDay\":0,\"prevalentStroke\":0,\"diabetes\":0,\"sysBP\":107.5},{\"sex\":0,\"age\":53,\"cigsPerDay\":3,\"prevalentStroke\":0,\"diabetes\":0,\"sysBP\":136.5},{\"sex\":1,\"age\":46,\"cigsPerDay\":20,\"prevalentStroke\":0,\"diabetes\":0,\"sysBP\":108.0},{\"sex\":0,\"age\":42,\"cigsPerDay\":0,\"prevalentStroke\":0,\"diabetes\":0,\"sysBP\":112.0},{\"sex\":0,\"age\":62,\"cigsPerDay\":0,\"prevalentStroke\":0,\"diabetes\":0,\"sysBP\":130.0},{\"sex\":1,\"age\":53,\"cigsPerDay\":30,\"prevalentStroke\":0,\"diabetes\":0,\"sysBP\":139.0},{\"sex\":0,\"age\":51,\"cigsPerDay\":0,\"prevalentStroke\":0,\"diabetes\":0,\"sysBP\":114.0},{\"sex\":0,\"age\":55,\"cigsPerDay\":0,\"prevalentStroke\":0,\"diabetes\":0,\"sysBP\":109.0},{\"sex\":0,\"age\":64,\"cigsPerDay\":3,\"prevalentStroke\":0,\"diabetes\":0,\"sysBP\":135.0},{\"sex\":0,\"age\":46,\"cigsPerDay\":23,\"prevalentStroke\":0,\"diabetes\":0,\"sysBP\":130.0},{\"sex\":1,\"age\":49,\"cigsPerDay\":15,\"prevalentStroke\":0,\"diabetes\":0,\"sysBP\":118.0},{\"sex\":0,\"age\":39,\"cigsPerDay\":0,\"prevalentStroke\":0,\"diabetes\":0,\"sysBP\":125.0},{\"sex\":0,\"age\":46,\"cigsPerDay\":20,\"prevalentStroke\":0,\"diabetes\":0,\"sysBP\":97.0},{\"sex\":0,\"age\":60,\"cigsPerDay\":0,\"prevalentStroke\":0,\"diabetes\":0,\"sysBP\":141.0},{\"sex\":0,\"age\":43,\"cigsPerDay\":20,\"prevalentStroke\":0,\"diabetes\":0,\"sysBP\":104.0},{\"sex\":1,\"age\":59,\"cigsPerDay\":20,\"prevalentStroke\":0,\"diabetes\":0,\"sysBP\":155.0},{\"sex\":0,\"age\":39,\"cigsPerDay\":15,\"prevalentStroke\":0,\"diabetes\":0,\"sysBP\":152.0},{\"sex\":0,\"age\":55,\"cigsPerDay\":0,\"prevalentStroke\":0,\"diabetes\":0,\"sysBP\":122.5},{\"sex\":0,\"age\":40,\"cigsPerDay\":0,\"prevalentStroke\":0,\"diabetes\":0,\"sysBP\":119.0},{\"sex\":1,\"age\":60,\"cigsPerDay\":0,\"prevalentStroke\":0,\"diabetes\":0,\"sysBP\":155.0},{\"sex\":1,\"age\":50,\"cigsPerDay\":43,\"prevalentStroke\":0,\"diabetes\":0,\"sysBP\":126.5},{\"sex\":1,\"age\":44,\"cigsPerDay\":0,\"prevalentStroke\":0,\"diabetes\":0,\"sysBP\":114.0},{\"sex\":0,\"age\":61,\"cigsPerDay\":0,\"prevalentStroke\":0,\"diabetes\":0,\"sysBP\":126.0},{\"sex\":0,\"age\":54,\"cigsPerDay\":0,\"prevalentStroke\":0,\"diabetes\":0,\"sysBP\":131.5},{\"sex\":1,\"age\":64,\"cigsPerDay\":0,\"prevalentStroke\":0,\"diabetes\":0,\"sysBP\":120.0},{\"sex\":0,\"age\":61,\"cigsPerDay\":0,\"prevalentStroke\":0,\"diabetes\":0,\"sysBP\":137.0},{\"sex\":1,\"age\":40,\"cigsPerDay\":0,\"prevalentStroke\":0,\"diabetes\":0,\"sysBP\":121.5},{\"sex\":1,\"age\":51,\"cigsPerDay\":20,\"prevalentStroke\":0,\"diabetes\":0,\"sysBP\":134.0},{\"sex\":1,\"age\":39,\"cigsPerDay\":10,\"prevalentStroke\":0,\"diabetes\":0,\"sysBP\":102.0},{\"sex\":0,\"age\":42,\"cigsPerDay\":20,\"prevalentStroke\":0,\"diabetes\":0,\"sysBP\":122.0},{\"sex\":0,\"age\":54,\"cigsPerDay\":5,\"prevalentStroke\":0,\"diabetes\":0,\"sysBP\":150.0},{\"sex\":0,\"age\":53,\"cigsPerDay\":9,\"prevalentStroke\":0,\"diabetes\":0,\"sysBP\":119.0},{\"sex\":0,\"age\":57,\"cigsPerDay\":0,\"prevalentStroke\":0,\"diabetes\":0,\"sysBP\":146.5},{\"sex\":0,\"age\":48,\"cigsPerDay\":20,\"prevalentStroke\":0,\"diabetes\":0,\"sysBP\":153.5},{\"sex\":0,\"age\":64,\"cigsPerDay\":0,\"prevalentStroke\":0,\"diabetes\":0,\"sysBP\":108.0},{\"sex\":0,\"age\":52,\"cigsPerDay\":20,\"prevalentStroke\":0,\"diabetes\":0,\"sysBP\":180.0},{\"sex\":1,\"age\":44,\"cigsPerDay\":0,\"prevalentStroke\":0,\"diabetes\":1,\"sysBP\":122.0},{\"sex\":0,\"age\":37,\"cigsPerDay\":40,\"prevalentStroke\":0,\"diabetes\":0,\"sysBP\":110.0},{\"sex\":0,\"age\":51,\"cigsPerDay\":15,\"prevalentStroke\":0,\"diabetes\":0,\"sysBP\":180.0},{\"sex\":1,\"age\":56,\"cigsPerDay\":0,\"prevalentStroke\":0,\"diabetes\":0,\"sysBP\":126.0},{\"sex\":0,\"age\":45,\"cigsPerDay\":20,\"prevalentStroke\":0,\"diabetes\":0,\"sysBP\":150.0},{\"sex\":0,\"age\":52,\"cigsPerDay\":0,\"prevalentStroke\":0,\"diabetes\":0,\"sysBP\":148.0},{\"sex\":1,\"age\":53,\"cigsPerDay\":20,\"prevalentStroke\":0,\"diabetes\":0,\"sysBP\":138.0},{\"sex\":1,\"age\":50,\"cigsPerDay\":0,\"prevalentStroke\":0,\"diabetes\":0,\"sysBP\":166.5},{\"sex\":0,\"age\":59,\"cigsPerDay\":0,\"prevalentStroke\":0,\"diabetes\":0,\"sysBP\":153.5},{\"sex\":0,\"age\":65,\"cigsPerDay\":0,\"prevalentStroke\":0,\"diabetes\":0,\"sysBP\":120.0},{\"sex\":1,\"age\":62,\"cigsPerDay\":0,\"prevalentStroke\":0,\"diabetes\":0,\"sysBP\":149.5},{\"sex\":1,\"age\":47,\"cigsPerDay\":43,\"prevalentStroke\":0,\"diabetes\":0,\"sysBP\":182.0},{\"sex\":0,\"age\":57,\"cigsPerDay\":0,\"prevalentStroke\":0,\"diabetes\":0,\"sysBP\":152.5},{\"sex\":1,\"age\":40,\"cigsPerDay\":30,\"prevalentStroke\":0,\"diabetes\":0,\"sysBP\":146.0},{\"sex\":0,\"age\":39,\"cigsPerDay\":0,\"prevalentStroke\":0,\"diabetes\":0,\"sysBP\":116.0},{\"sex\":0,\"age\":61,\"cigsPerDay\":0,\"prevalentStroke\":0,\"diabetes\":0,\"sysBP\":171.0},{\"sex\":0,\"age\":54,\"cigsPerDay\":0,\"prevalentStroke\":0,\"diabetes\":0,\"sysBP\":163.5},{\"sex\":1,\"age\":40,\"cigsPerDay\":10,\"prevalentStroke\":0,\"diabetes\":0,\"sysBP\":125.0},{\"sex\":0,\"age\":54,\"cigsPerDay\":1,\"prevalentStroke\":0,\"diabetes\":0,\"sysBP\":136.0},{\"sex\":0,\"age\":44,\"cigsPerDay\":0,\"prevalentStroke\":0,\"diabetes\":0,\"sysBP\":142.0},{\"sex\":0,\"age\":49,\"cigsPerDay\":0,\"prevalentStroke\":0,\"diabetes\":0,\"sysBP\":140.0},{\"sex\":1,\"age\":51,\"cigsPerDay\":0,\"prevalentStroke\":0,\"diabetes\":0,\"sysBP\":159.0},{\"sex\":0,\"age\":62,\"cigsPerDay\":0,\"prevalentStroke\":0,\"diabetes\":0,\"sysBP\":160.0},{\"sex\":0,\"age\":45,\"cigsPerDay\":0,\"prevalentStroke\":0,\"diabetes\":0,\"sysBP\":109.0},{\"sex\":0,\"age\":56,\"cigsPerDay\":0,\"prevalentStroke\":0,\"diabetes\":0,\"sysBP\":118.0},{\"sex\":0,\"age\":44,\"cigsPerDay\":5,\"prevalentStroke\":0,\"diabetes\":0,\"sysBP\":102.0},{\"sex\":0,\"age\":58,\"cigsPerDay\":36,\"prevalentStroke\":0,\"diabetes\":0,\"sysBP\":195.0},{\"sex\":1,\"age\":56,\"cigsPerDay\":30,\"prevalentStroke\":0,\"diabetes\":0,\"sysBP\":113.5},{\"sex\":0,\"age\":60,\"cigsPerDay\":3,\"prevalentStroke\":0,\"diabetes\":0,\"sysBP\":130.0},{\"sex\":0,\"age\":63,\"cigsPerDay\":0,\"prevalentStroke\":0,\"diabetes\":0,\"sysBP\":143.5},{\"sex\":1,\"age\":56,\"cigsPerDay\":0,\"prevalentStroke\":0,\"diabetes\":0,\"sysBP\":114.0},{\"sex\":1,\"age\":39,\"cigsPerDay\":20,\"prevalentStroke\":0,\"diabetes\":0,\"sysBP\":122.5},{\"sex\":1,\"age\":58,\"cigsPerDay\":20,\"prevalentStroke\":0,\"diabetes\":0,\"sysBP\":127.5},{\"sex\":1,\"age\":47,\"cigsPerDay\":0,\"prevalentStroke\":0,\"diabetes\":1,\"sysBP\":161.0},{\"sex\":0,\"age\":42,\"cigsPerDay\":15,\"prevalentStroke\":0,\"diabetes\":0,\"sysBP\":120.0},{\"sex\":0,\"age\":66,\"cigsPerDay\":0,\"prevalentStroke\":0,\"diabetes\":0,\"sysBP\":154.0},{\"sex\":0,\"age\":42,\"cigsPerDay\":15,\"prevalentStroke\":0,\"diabetes\":0,\"sysBP\":115.0},{\"sex\":0,\"age\":54,\"cigsPerDay\":0,\"prevalentStroke\":0,\"diabetes\":0,\"sysBP\":136.5},{\"sex\":0,\"age\":67,\"cigsPerDay\":20,\"prevalentStroke\":0,\"diabetes\":0,\"sysBP\":154.0},{\"sex\":1,\"age\":38,\"cigsPerDay\":0,\"prevalentStroke\":0,\"diabetes\":0,\"sysBP\":121.0},{\"sex\":0,\"age\":54,\"cigsPerDay\":5,\"prevalentStroke\":0,\"diabetes\":0,\"sysBP\":151.5},{\"sex\":0,\"age\":53,\"cigsPerDay\":0,\"prevalentStroke\":0,\"diabetes\":0,\"sysBP\":159.0},{\"sex\":0,\"age\":65,\"cigsPerDay\":0,\"prevalentStroke\":0,\"diabetes\":0,\"sysBP\":162.0},{\"sex\":1,\"age\":41,\"cigsPerDay\":0,\"prevalentStroke\":0,\"diabetes\":0,\"sysBP\":140.0},{\"sex\":0,\"age\":44,\"cigsPerDay\":0,\"prevalentStroke\":0,\"diabetes\":0,\"sysBP\":122.0}]\n"
     ]
    }
   ],
   "source": [
    "import json\n",
    "import requests\n",
    "import pandas as pd\n",
    "#Netstat -an |find/i \"established\";\n",
    "url = \"http://localhost:5000/api\"\n",
    "\n",
    "# files = {'file': ('CHDtest.csv', open('./CHDtest.csv', 'rb'), 'application/vnd.ms-excel', {'Expires': '0'})}\n",
    "\n",
    "\n",
    "df = pd.read_csv('./CHDtest.csv',  encoding=\"utf-8-sig\")\n",
    "df.drop(index = None, columns=['Sno','education', 'currentSmoker', 'BPMeds', 'prevalentHyp', 'totChol', 'diaBP', 'BMI', 'heartRate', 'glucose'],  inplace=True, )\n",
    "\n",
    "data = df.to_json(orient='records')\n",
    "\n",
    "print(data)\n"
   ]
  },
  {
   "cell_type": "code",
   "execution_count": 93,
   "metadata": {},
   "outputs": [],
   "source": [
    "header = {'Content-Type': 'application/json', 'Accept': 'application/json'}\n",
    "\n",
    "res = requests.post(url, data = json.dumps(data), headers= header)\n",
    "#print(res.text)\n",
    "\n"
   ]
  },
  {
   "cell_type": "code",
   "execution_count": 94,
   "metadata": {},
   "outputs": [
    {
     "name": "stdout",
     "output_type": "stream",
     "text": [
      "<class 'dict'>\n",
      "                                         predictions\n",
      "0  [{\"age\":66,\"cigsPerDay\":0,\"diabetes\":0,\"preval...\n"
     ]
    }
   ],
   "source": [
    "dict = json.loads(res.text)\n",
    "\n",
    "print(type(dict))\n",
    "\n",
    "df = pd.DataFrame(dict, index=[0])\n",
    "\n",
    "print(df.head())\n",
    "\n",
    "df.to_csv('result4.csv')"
   ]
  },
  {
   "cell_type": "code",
   "execution_count": null,
   "metadata": {},
   "outputs": [],
   "source": []
  }
 ],
 "metadata": {
  "kernelspec": {
   "display_name": "Python 3",
   "language": "python",
   "name": "python3"
  },
  "language_info": {
   "codemirror_mode": {
    "name": "ipython",
    "version": 3
   },
   "file_extension": ".py",
   "mimetype": "text/x-python",
   "name": "python",
   "nbconvert_exporter": "python",
   "pygments_lexer": "ipython3",
   "version": "3.7.0"
  }
 },
 "nbformat": 4,
 "nbformat_minor": 2
}
