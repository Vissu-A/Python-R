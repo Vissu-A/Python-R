{
 "cells": [
  {
   "cell_type": "markdown",
   "metadata": {},
   "source": [
    "**Palindrome means if we write the input number in reverse order it should be same as the input number.**\n",
    "\n",
    "**Example:**\n",
    "> inputno = 151<br>\n",
    "> reverseno = 151<br>\n",
    "\n",
    "> inputno == reverseno  ---> Palindrome number<br>\n",
    "> inputno != reverseno  ---> Not Palindrome number<br>"
   ]
  },
  {
   "cell_type": "code",
   "execution_count": 1,
   "metadata": {},
   "outputs": [
    {
     "name": "stdout",
     "output_type": "stream",
     "text": [
      "Enter your number151\n",
      "reverse of given number=  151\n",
      "151  is palindrome number\n"
     ]
    }
   ],
   "source": [
    "n = int(input('Enter your number'))\n",
    "temp = n\n",
    "rev = 0\n",
    "while n > 0:\n",
    "    rem = n % 10\n",
    "    rev = rev*10+rem\n",
    "    n = n//10\n",
    "\n",
    "print('reverse of given number= ',rev)\n",
    "\n",
    "if temp == rev:\n",
    "    print(temp,' is palindrome number')\n",
    "\n",
    "else:\n",
    "    print(temp,' is not palindrome number')"
   ]
  }
 ],
 "metadata": {
  "kernelspec": {
   "display_name": "Python 3",
   "language": "python",
   "name": "python3"
  },
  "language_info": {
   "codemirror_mode": {
    "name": "ipython",
    "version": 3
   },
   "file_extension": ".py",
   "mimetype": "text/x-python",
   "name": "python",
   "nbconvert_exporter": "python",
   "pygments_lexer": "ipython3",
   "version": "3.6.5"
  }
 },
 "nbformat": 4,
 "nbformat_minor": 4
}
