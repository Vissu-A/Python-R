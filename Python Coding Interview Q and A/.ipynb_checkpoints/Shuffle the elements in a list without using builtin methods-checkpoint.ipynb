{
 "cells": [
  {
   "cell_type": "code",
   "execution_count": 11,
   "metadata": {},
   "outputs": [
    {
     "name": "stdout",
     "output_type": "stream",
     "text": [
      "Enter the list elements separated by single space: 1 a b 2 c d 3 e f 5\n",
      "['1', 'd', 'b', 'a', '3', 'c', 'f', 'e', '5', '2']\n"
     ]
    }
   ],
   "source": [
    "import random\n",
    "\n",
    "li = input('Enter the list elements separated by single space: ').split(' ')\n",
    "\n",
    "def shufflist(x):\n",
    "    '''\n",
    "    This function will shuffle the elements in the given list.\n",
    "    \n",
    "    Parameters:\n",
    "    x (list): input list\n",
    "    \n",
    "    Returns:\n",
    "    shfli (list): shuffled list\n",
    "    '''\n",
    "    \n",
    "    shfind = [0, ]\n",
    "\n",
    "    while shfind:\n",
    "        n = random.randint(0, len(x)-1)\n",
    "    \n",
    "        if n in shfind:\n",
    "            continue\n",
    "        else:\n",
    "            shfind.append(n)\n",
    "        \n",
    "        if len(shfind) == len(x):\n",
    "            break\n",
    "            \n",
    "    shfli = [x[i] for i in shfind]\n",
    "    return shfli\n",
    "\n",
    "res = shufflist(li)\n",
    "print(res)"
   ]
  },
  {
   "cell_type": "code",
   "execution_count": null,
   "metadata": {},
   "outputs": [],
   "source": []
  },
  {
   "cell_type": "code",
   "execution_count": null,
   "metadata": {},
   "outputs": [],
   "source": []
  }
 ],
 "metadata": {
  "kernelspec": {
   "display_name": "Python 3",
   "language": "python",
   "name": "python3"
  },
  "language_info": {
   "codemirror_mode": {
    "name": "ipython",
    "version": 3
   },
   "file_extension": ".py",
   "mimetype": "text/x-python",
   "name": "python",
   "nbconvert_exporter": "python",
   "pygments_lexer": "ipython3",
   "version": "3.6.5"
  }
 },
 "nbformat": 4,
 "nbformat_minor": 4
}
