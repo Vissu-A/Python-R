{
 "cells": [
  {
   "cell_type": "code",
   "execution_count": 5,
   "metadata": {},
   "outputs": [
    {
     "name": "stdout",
     "output_type": "stream",
     "text": [
      "[17, 20, 26, 31, 44, 54, 55, 77, 93]\n"
     ]
    }
   ],
   "source": [
    "def bubblesort(l):\n",
    "    for i in range(len(l)):                            # len(l) = 7   0-6    l = [1,3,4,2,7,6,8]\n",
    "        for j in range(len(l)-1):                      # len(l)-1 =6  0-5\n",
    "            if l[j] > l[j+1]:\n",
    "                l[j], l[j + 1] = l[j + 1], l[j]\n",
    "\n",
    "    print(l)\n",
    "\n",
    "lst = [54,26,93,17,77,31,44,55,20]\n",
    "bubblesort(lst)"
   ]
  },
  {
   "cell_type": "code",
   "execution_count": 6,
   "metadata": {},
   "outputs": [
    {
     "name": "stdout",
     "output_type": "stream",
     "text": [
      "Splitting  [54, 26, 93, 17, 77, 31, 44, 55, 20]\n",
      "Splitting  [54, 26, 93, 17]\n",
      "Splitting  [54, 26]\n",
      "Splitting  [54]\n",
      "Splitting  [26]\n",
      "0\n",
      "[54]\n",
      "[26]\n",
      "Merging  [26, 54]\n",
      "Splitting  [93, 17]\n",
      "Splitting  [93]\n",
      "Splitting  [17]\n",
      "0\n",
      "[93]\n",
      "[17]\n",
      "Merging  [17, 93]\n",
      "0\n",
      "[26, 54]\n",
      "[17, 93]\n",
      "Merging  [17, 26, 54, 93]\n",
      "Splitting  [77, 31, 44, 55, 20]\n",
      "Splitting  [77, 31]\n",
      "Splitting  [77]\n",
      "Splitting  [31]\n",
      "0\n",
      "[77]\n",
      "[31]\n",
      "Merging  [31, 77]\n",
      "Splitting  [44, 55, 20]\n",
      "Splitting  [44]\n",
      "Splitting  [55, 20]\n",
      "Splitting  [55]\n",
      "Splitting  [20]\n",
      "0\n",
      "[55]\n",
      "[20]\n",
      "Merging  [20, 55]\n",
      "0\n",
      "[44]\n",
      "[20, 55]\n",
      "Merging  [20, 44, 55]\n",
      "0\n",
      "[31, 77]\n",
      "[20, 44, 55]\n",
      "Merging  [20, 31, 44, 55, 77]\n",
      "0\n",
      "[17, 26, 54, 93]\n",
      "[20, 31, 44, 55, 77]\n",
      "Merging  [17, 20, 26, 31, 44, 54, 55, 77, 93]\n"
     ]
    }
   ],
   "source": [
    "def mergeSort(alist):\n",
    "    print(\"Splitting \",alist)\n",
    "    if len(alist)>1:\n",
    "        mid = len(alist)//2\n",
    "        lefthalf = alist[:mid]\n",
    "        righthalf = alist[mid:]\n",
    "\n",
    "        mergeSort(lefthalf)\n",
    "        mergeSort(righthalf)\n",
    "        i = 0\n",
    "        j = 0\n",
    "        k = 0\n",
    "        print(i)\n",
    "        print(lefthalf)\n",
    "        print(righthalf)\n",
    "        while i < len(lefthalf) and j < len(righthalf):\n",
    "            if lefthalf[i] < righthalf[j]:\n",
    "                alist[k] = lefthalf[i]\n",
    "                i = i + 1\n",
    "            else:\n",
    "                alist[k] = righthalf[j]\n",
    "                j = j + 1\n",
    "            k = k + 1\n",
    "\n",
    "        while i < len(lefthalf):\n",
    "            alist[k] = lefthalf[i]\n",
    "            i = i + 1\n",
    "            k = k + 1\n",
    "\n",
    "        while j < len(righthalf):\n",
    "            alist[k] = righthalf[j]\n",
    "            j = j + 1\n",
    "            k = k + 1\n",
    "        print(\"Merging \", alist)\n",
    "\n",
    "\n",
    "alist = [54,26,93,17,77,31,44,55,20]\n",
    "mergeSort(alist)"
   ]
  },
  {
   "cell_type": "code",
   "execution_count": 12,
   "metadata": {},
   "outputs": [
    {
     "name": "stdout",
     "output_type": "stream",
     "text": [
      "enter starting of the range: 0\n",
      "enter ending of the range: 150\n",
      "2,3,5,7,11,13,17,19,23,29,31,37,41,43,47,53,59,61,67,71,73,79,83,89,97,101,103,107,109,113,127,131,137,139,149,"
     ]
    }
   ],
   "source": [
    "lr = int(input('enter starting of the range: '))\n",
    "ur = int(input('enter ending of the range: '))\n",
    "\n",
    "for num in range(lr,ur+1):\n",
    "    if num in [0, 1]:\n",
    "        continue\n",
    "    for i in range(2, num // 2 + 1):\n",
    "        if num % i == 0:\n",
    "            break\n",
    "    else:\n",
    "        print(num, end=',')"
   ]
  },
  {
   "cell_type": "code",
   "execution_count": 27,
   "metadata": {},
   "outputs": [
    {
     "name": "stdout",
     "output_type": "stream",
     "text": [
      "Enter a number:147\n",
      "f value is:  5040\n",
      "f value is:  24\n",
      "f value is:  1\n",
      "5065\n",
      "147\n",
      "The number is not a strong number\n"
     ]
    }
   ],
   "source": [
    "sum1=0\n",
    "num=int(input(\"Enter a number:\"))\n",
    "temp=num\n",
    "while(num):\n",
    "    i=1\n",
    "    f=1\n",
    "    r=num%10\n",
    "    \n",
    "    while(i<=r):\n",
    "        f=f*i\n",
    "        i=i+1\n",
    "        \n",
    "    print('f value is: ', f)\n",
    "\n",
    "    sum1=sum1+f\n",
    "    num=num//10\n",
    "\n",
    "print(sum1)\n",
    "print(temp)\n",
    "if(sum1==temp):\n",
    "    print(\"The number is a strong number\")\n",
    "else:\n",
    "    print(\"The number is not a strong number\")"
   ]
  },
  {
   "cell_type": "markdown",
   "metadata": {},
   "source": [
    " Check Common Letters in Two Input Strings"
   ]
  },
  {
   "cell_type": "code",
   "execution_count": 31,
   "metadata": {},
   "outputs": [
    {
     "name": "stdout",
     "output_type": "stream",
     "text": [
      "Enter 1st stringapple\n",
      "Enter 2nd stringgap\n",
      "a\n",
      "p\n",
      "p\n",
      "l\n",
      "e\n",
      "['a', 'p', 'p']\n"
     ]
    }
   ],
   "source": [
    "s1 = input('Enter 1st string: ')\n",
    "s2 = input('Enter 2nd string: ')\n",
    "\n",
    "comman = []\n",
    "for e in s1:\n",
    "    print(e)\n",
    "    if e in list(s2):\n",
    "        comman.append(e)\n",
    "        \n",
    "print(comman)"
   ]
  },
  {
   "cell_type": "code",
   "execution_count": null,
   "metadata": {},
   "outputs": [],
   "source": []
  }
 ],
 "metadata": {
  "kernelspec": {
   "display_name": "Python 3",
   "language": "python",
   "name": "python3"
  },
  "language_info": {
   "codemirror_mode": {
    "name": "ipython",
    "version": 3
   },
   "file_extension": ".py",
   "mimetype": "text/x-python",
   "name": "python",
   "nbconvert_exporter": "python",
   "pygments_lexer": "ipython3",
   "version": "3.6.5"
  }
 },
 "nbformat": 4,
 "nbformat_minor": 4
}
