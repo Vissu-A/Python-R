{
 "cells": [
  {
   "cell_type": "code",
   "execution_count": 6,
   "metadata": {},
   "outputs": [],
   "source": [
    "def intlen(num):\n",
    "    '''\n",
    "    This function will count the number of digits in the given number and returns count.\n",
    "    \n",
    "    Arguments:\n",
    "    num (int): input number\n",
    "    \n",
    "    Returns:\n",
    "    cnt(num): len of given number\n",
    "    '''\n",
    "    cnt= 0\n",
    "    while num > 0:\n",
    "        num % 10\n",
    "        cnt += 1\n",
    "        num //= 10\n",
    "    return cnt"
   ]
  },
  {
   "cell_type": "code",
   "execution_count": 7,
   "metadata": {},
   "outputs": [
    {
     "name": "stdout",
     "output_type": "stream",
     "text": [
      "Enter a positive number: 153\n",
      "3\n"
     ]
    }
   ],
   "source": [
    "n = int(input('Enter a positive number: '))\n",
    "res = intlen(n)\n",
    "print(res)"
   ]
  },
  {
   "cell_type": "code",
   "execution_count": null,
   "metadata": {},
   "outputs": [],
   "source": []
  }
 ],
 "metadata": {
  "kernelspec": {
   "display_name": "Python 3",
   "language": "python",
   "name": "python3"
  },
  "language_info": {
   "codemirror_mode": {
    "name": "ipython",
    "version": 3
   },
   "file_extension": ".py",
   "mimetype": "text/x-python",
   "name": "python",
   "nbconvert_exporter": "python",
   "pygments_lexer": "ipython3",
   "version": "3.6.5"
  }
 },
 "nbformat": 4,
 "nbformat_minor": 4
}
