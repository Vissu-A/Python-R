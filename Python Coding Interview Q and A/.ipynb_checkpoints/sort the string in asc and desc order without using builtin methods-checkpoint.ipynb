{
 "cells": [
  {
   "cell_type": "code",
   "execution_count": 57,
   "metadata": {},
   "outputs": [],
   "source": [
    "def strsort(word, direction = 'asc'):\n",
    "    '''\n",
    "    This function is used to sort the given word string in specified order (Default is ascending oreder).\n",
    "    \n",
    "    Parameters:\n",
    "    word (str): input word\n",
    "    direction (str): order to sort. (Default is ascending)\n",
    "    \n",
    "    Returns:\n",
    "    sortword (str): sorted word\n",
    "    '''\n",
    "\n",
    "    ordlist = []\n",
    "    sortword = ''\n",
    "    for e in s:\n",
    "        order = ord(e)\n",
    "        if len(ordlist) == 0:\n",
    "            ordlist.append(order)\n",
    "        \n",
    "        else:\n",
    "            for i in range(len(ordlist)):\n",
    "                if order < ordlist[i]:\n",
    "                    ordlist.insert(i, order)\n",
    "                    break\n",
    "                elif order == ordlist[i]:\n",
    "                    ordlist.insert(i+1, order)\n",
    "                    break\n",
    "                else:\n",
    "                    if i != len(ordlist)-1:\n",
    "                        continue\n",
    "                    else:\n",
    "                        ordlist.append(order)\n",
    "    \n",
    "    if direction == 'desc':\n",
    "        sortword = ''.join([chr(asci) for asci in ordlist[::-1]])\n",
    "        \n",
    "    else:\n",
    "        sortword = ''.join([chr(asci) for asci in ordlist])\n",
    "    \n",
    "    return sortword"
   ]
  },
  {
   "cell_type": "code",
   "execution_count": 59,
   "metadata": {},
   "outputs": [
    {
     "name": "stdout",
     "output_type": "stream",
     "text": [
      "Enter your string ant\n",
      "ant\n"
     ]
    }
   ],
   "source": [
    "if __name__ == '__main__':\n",
    "    s = input('Enter your string ')\n",
    "    res = strsort(s)\n",
    "    print(res)"
   ]
  },
  {
   "cell_type": "code",
   "execution_count": 60,
   "metadata": {},
   "outputs": [
    {
     "name": "stdout",
     "output_type": "stream",
     "text": [
      "inside\n",
      "tna\n"
     ]
    }
   ],
   "source": [
    "print(strsort(s, direction='desc'))"
   ]
  },
  {
   "cell_type": "code",
   "execution_count": 61,
   "metadata": {},
   "outputs": [
    {
     "data": {
      "text/plain": [
       "'\\n    This function is used to sort the given word string in specified order (Default is ascending oreder).\\n    \\n    Parameters:\\n    word (str): input word\\n    direction (str): order to sort. (Default is ascending)\\n    \\n    Returns:\\n    sortword (str): sorted word\\n    '"
      ]
     },
     "execution_count": 61,
     "metadata": {},
     "output_type": "execute_result"
    }
   ],
   "source": [
    "strsort.__doc__"
   ]
  },
  {
   "cell_type": "code",
   "execution_count": null,
   "metadata": {},
   "outputs": [],
   "source": []
  }
 ],
 "metadata": {
  "kernelspec": {
   "display_name": "Python 3",
   "language": "python",
   "name": "python3"
  },
  "language_info": {
   "codemirror_mode": {
    "name": "ipython",
    "version": 3
   },
   "file_extension": ".py",
   "mimetype": "text/x-python",
   "name": "python",
   "nbconvert_exporter": "python",
   "pygments_lexer": "ipython3",
   "version": "3.6.5"
  }
 },
 "nbformat": 4,
 "nbformat_minor": 4
}
