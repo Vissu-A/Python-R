{
 "cells": [
  {
   "cell_type": "markdown",
   "metadata": {},
   "source": [
    "#### symetric pair means\n",
    "\n",
    "> d = {'a':1, 'b':2, 'c':3, 1:'a', 2:'g', 3:'c'}\n",
    "\n",
    "> output ===> [('a', 1), (1, 'a'), ('c', 3), (3, 'c')]"
   ]
  },
  {
   "cell_type": "code",
   "execution_count": 3,
   "metadata": {},
   "outputs": [
    {
     "name": "stdout",
     "output_type": "stream",
     "text": [
      "[('a', 1), ('b', 2), (1, 'a'), (2, 'b')]\n"
     ]
    }
   ],
   "source": [
    "test_dict = {'a' : 1, 'b' : 2, 'c' : 3,  1 : 'a', 2 : 'b'}\n",
    "outlist = []\n",
    "\n",
    "for key in test_dict:\n",
    "    v = test_dict.get(key)\n",
    "    \n",
    "    if test_dict.get(v) == key:\n",
    "        outlist.append((key, v))\n",
    "        \n",
    "print(outlist)"
   ]
  },
  {
   "cell_type": "code",
   "execution_count": null,
   "metadata": {},
   "outputs": [],
   "source": []
  }
 ],
 "metadata": {
  "kernelspec": {
   "display_name": "Python 3",
   "language": "python",
   "name": "python3"
  },
  "language_info": {
   "codemirror_mode": {
    "name": "ipython",
    "version": 3
   },
   "file_extension": ".py",
   "mimetype": "text/x-python",
   "name": "python",
   "nbconvert_exporter": "python",
   "pygments_lexer": "ipython3",
   "version": "3.6.5"
  }
 },
 "nbformat": 4,
 "nbformat_minor": 4
}
