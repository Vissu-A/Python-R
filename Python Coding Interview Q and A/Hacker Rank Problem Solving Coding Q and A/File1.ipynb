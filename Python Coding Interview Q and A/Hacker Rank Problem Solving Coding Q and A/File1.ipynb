{
 "cells": [
  {
   "cell_type": "markdown",
   "metadata": {},
   "source": [
    "## 1. Write a program to find the absolute difference between sum of diagonal elements and reverse diagonal element in an 2-d array"
   ]
  },
  {
   "cell_type": "markdown",
   "metadata": {},
   "source": [
    "> Let say i have a 2-D array like this<br>\n",
    "> arr = [[11,2,4], [4,5,6], [10,8,-12]]<br>\n",
    "> i want to find absolute difference between sum([11,5,-12]) and sum([4,5,10])"
   ]
  },
  {
   "cell_type": "code",
   "execution_count": 3,
   "metadata": {},
   "outputs": [],
   "source": [
    "def diagonalDifference(arr):\n",
    "    dig = [arr[x][x] for x in range(0, len(arr))]\n",
    "    rdig = []\n",
    "    t = len(arr) - (len(arr)+1)\n",
    "    for x in range(0, len(arr)):\n",
    "        rdig.append(arr[x][t])\n",
    "        t -= 1\n",
    "    return abs(sum(dig) - sum(rdig))"
   ]
  },
  {
   "cell_type": "code",
   "execution_count": 4,
   "metadata": {},
   "outputs": [
    {
     "name": "stdout",
     "output_type": "stream",
     "text": [
      "15\n"
     ]
    }
   ],
   "source": [
    "if __name__ == '__main__':\n",
    "\n",
    "    arr = [[11,2,4], \n",
    "           [4,5,6], \n",
    "           [10,8,-12]]\n",
    "\n",
    "    result = diagonalDifference(arr)\n",
    "\n",
    "    print(result)"
   ]
  },
  {
   "cell_type": "code",
   "execution_count": null,
   "metadata": {},
   "outputs": [],
   "source": []
  }
 ],
 "metadata": {
  "kernelspec": {
   "display_name": "Python 3",
   "language": "python",
   "name": "python3"
  },
  "language_info": {
   "codemirror_mode": {
    "name": "ipython",
    "version": 3
   },
   "file_extension": ".py",
   "mimetype": "text/x-python",
   "name": "python",
   "nbconvert_exporter": "python",
   "pygments_lexer": "ipython3",
   "version": "3.6.5"
  }
 },
 "nbformat": 4,
 "nbformat_minor": 4
}
