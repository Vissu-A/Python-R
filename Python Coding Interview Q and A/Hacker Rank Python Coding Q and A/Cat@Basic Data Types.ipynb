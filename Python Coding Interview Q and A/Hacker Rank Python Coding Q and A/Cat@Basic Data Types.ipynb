{
 "cells": [
  {
   "cell_type": "markdown",
   "metadata": {},
   "source": [
    "## Nested_Lists"
   ]
  },
  {
   "cell_type": "markdown",
   "metadata": {},
   "source": [
    "### Given the names and grades for each student in a class of  students, store them in a nested list and print the name(s) of any student(s) having the second lowest grade.\n",
    "\n",
    "### Note: If there are multiple students with the second lowest grade, order their names alphabetically and print each name on a new line.\n",
    "\n"
   ]
  },
  {
   "cell_type": "markdown",
   "metadata": {},
   "source": [
    "Sample Input 0<br>\n",
    "\n",
    "5<br>\n",
    "Harry<br>\n",
    "37.21<br>\n",
    "Berry<br>\n",
    "37.21<br>\n",
    "Tina<br>\n",
    "37.2<br>\n",
    "Akriti<br>\n",
    "41<br>\n",
    "Harsh<br>\n",
    "39<br>\n",
    "\n",
    "Sample Output 0<br>\n",
    "\n",
    "Berry<br>\n",
    "Harry<br>\n",
    "\n",
    "Explanation <br>\n",
    "\n",
    "There are 5 students in this class whose names and grades are assembled to build the following list:<br>\n",
    "\n",
    "python students = [['Harry', 37.21], ['Berry', 37.21], ['Tina', 37.2], ['Akriti', 41], ['Harsh', 39]]<br>\n",
    "\n",
    "The lowest grade of 37.2 belongs to Tina. The second lowest grade of 37.21 belongs to both Harry and Berry, so we order their names alphabetically and print each name on a new line."
   ]
  },
  {
   "cell_type": "code",
   "execution_count": 1,
   "metadata": {},
   "outputs": [],
   "source": [
    "def noslg(li):\n",
    "    dit = {}\n",
    "    for n, g in li:\n",
    "        if g in dit.keys():\n",
    "            dit[g].append(n)\n",
    "        else:\n",
    "            dit[g] = [n]\n",
    "\n",
    "    k = sorted(dit.keys())[1]\n",
    "    value = dit[k]\n",
    "    \n",
    "    for name in sorted(value):\n",
    "        print(name)    "
   ]
  },
  {
   "cell_type": "code",
   "execution_count": 5,
   "metadata": {},
   "outputs": [
    {
     "name": "stdout",
     "output_type": "stream",
     "text": [
      "Enter number of students 3\n",
      "Enter name vissu\n",
      "Enter score 75.39\n",
      "Enter name dinesh85.75\n",
      "Enter score 85.75\n",
      "Enter name ravi\n",
      "Enter score 85.7\n",
      "ravi\n"
     ]
    }
   ],
   "source": [
    "if __name__ == '__main__':\n",
    "    li = []\n",
    "    for _ in range(int(input('Enter number of students '))):\n",
    "        name = input('Enter name ')\n",
    "        score = float(input('Enter score '))\n",
    "        li.append([name, score])\n",
    "    noslg(li)"
   ]
  },
  {
   "cell_type": "markdown",
   "metadata": {},
   "source": [
    "<br>"
   ]
  },
  {
   "cell_type": "markdown",
   "metadata": {},
   "source": [
    "## Find the Runner-Up Score!"
   ]
  },
  {
   "cell_type": "markdown",
   "metadata": {},
   "source": [
    "### Given the participants' score sheet for your University Sports Day, you are required to find the runner-up score. You are given 'n' scores. Store them in a list and find the score of the runner-up."
   ]
  },
  {
   "cell_type": "markdown",
   "metadata": {},
   "source": [
    "Sample Input <br>\n",
    "\n",
    "5<br>\n",
    "2 3 6 6 5<br>\n",
    "Sample Output <br>\n",
    "\n",
    "5<br>\n",
    "Explanation <br>\n",
    "\n",
    "Given list is [2,3,6,6,5] . The maximum score is 6, second maximum is 5. Hence, we print 5 as the runner-up score."
   ]
  },
  {
   "cell_type": "code",
   "execution_count": 6,
   "metadata": {},
   "outputs": [],
   "source": [
    "def findrunnerup(score):\n",
    "    scr = set(score)\n",
    "    return sorted(scr, reverse=True)[1]"
   ]
  },
  {
   "cell_type": "code",
   "execution_count": 9,
   "metadata": {},
   "outputs": [
    {
     "name": "stdout",
     "output_type": "stream",
     "text": [
      "Enter number of participants 5\n",
      "Enter scores of participants separated by space 2 4 6 6 5\n",
      "5\n"
     ]
    }
   ],
   "source": [
    "if __name__ == '__main__':\n",
    "    n = int(input('Enter number of participants '))\n",
    "    arr = map(int, input('Enter scores of participants separated by space ').split())\n",
    "    res = findrunnerup(arr)\n",
    "    print(res)"
   ]
  },
  {
   "cell_type": "markdown",
   "metadata": {},
   "source": [
    "<br>"
   ]
  },
  {
   "cell_type": "markdown",
   "metadata": {},
   "source": [
    "### Finding the percentage"
   ]
  },
  {
   "cell_type": "markdown",
   "metadata": {},
   "source": [
    "### The provided code stub will read in a dictionary containing key/value pairs of name:[marks] for a list of students. Print the average of the marks array for the student name provided, showing 2 places after the decimal."
   ]
  },
  {
   "cell_type": "markdown",
   "metadata": {},
   "source": [
    "Sample Input <br>\n",
    "\n",
    "3<br>\n",
    "Krishna 67 68 69<br>\n",
    "Arjun 70 98 63<br>\n",
    "Malika 52 56 60<br>\n",
    "\n",
    "Malika<br>\n",
    "Sample Output <br>\n",
    "\n",
    "56.00<br>\n",
    "\n",
    "Explanation <br>\n",
    "\n",
    "Marks for Malika are [52,56,60] whose average is (52+56+60)/3"
   ]
  },
  {
   "cell_type": "markdown",
   "metadata": {},
   "source": [
    "<br>"
   ]
  },
  {
   "cell_type": "markdown",
   "metadata": {},
   "source": [
    "### Finding the percentage"
   ]
  },
  {
   "cell_type": "markdown",
   "metadata": {},
   "source": [
    "#### The provided code stub will read in a dictionary containing key/value pairs of name:[marks] for a list of students. Print the average of the marks array for the student name provided, showing 2 places after the decimal."
   ]
  },
  {
   "cell_type": "code",
   "execution_count": 10,
   "metadata": {},
   "outputs": [],
   "source": [
    "def findavg(name, dit):\n",
    "    marks = dit.get(name)\n",
    "    r = sum(marks)/len(marks)\n",
    "    return format(r, '.2f')"
   ]
  },
  {
   "cell_type": "code",
   "execution_count": 15,
   "metadata": {},
   "outputs": [
    {
     "name": "stdout",
     "output_type": "stream",
     "text": [
      "Enter number of students 3\n",
      "Enter student name and marks vissu 57 89 97\n",
      "Enter student name and marks ravi 57 89 68\n",
      "Enter student name and marks dinesh 89 78 58\n",
      "Enter the student name to get average marks dinesh\n",
      "75.00\n"
     ]
    }
   ],
   "source": [
    "if __name__ == '__main__':\n",
    "    n = int(input('Enter number of students '))\n",
    "    student_marks = {}\n",
    "    for _ in range(n):\n",
    "        name, *line = input('Enter student name and marks ').split()\n",
    "        scores = list(map(float, line))\n",
    "        student_marks[name] = scores\n",
    "    query_name = input('Enter the student name to get average marks ')\n",
    "    res = findavg(query_name, student_marks)\n",
    "    print(res)"
   ]
  },
  {
   "cell_type": "code",
   "execution_count": null,
   "metadata": {},
   "outputs": [],
   "source": []
  }
 ],
 "metadata": {
  "kernelspec": {
   "display_name": "Python 3",
   "language": "python",
   "name": "python3"
  },
  "language_info": {
   "codemirror_mode": {
    "name": "ipython",
    "version": 3
   },
   "file_extension": ".py",
   "mimetype": "text/x-python",
   "name": "python",
   "nbconvert_exporter": "python",
   "pygments_lexer": "ipython3",
   "version": "3.6.5"
  }
 },
 "nbformat": 4,
 "nbformat_minor": 4
}
