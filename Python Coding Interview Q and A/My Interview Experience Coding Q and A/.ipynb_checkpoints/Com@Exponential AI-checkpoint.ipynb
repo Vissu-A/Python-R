{
 "cells": [
  {
   "cell_type": "markdown",
   "metadata": {},
   "source": [
    "## Write a program to sort the charecters in a given string and count them?"
   ]
  },
  {
   "cell_type": "code",
   "execution_count": 17,
   "metadata": {},
   "outputs": [
    {
     "name": "stdout",
     "output_type": "stream",
     "text": [
      "Enter your wordapple\n",
      "(['a', 'e', 'l', 'p', 'p'], 'aelpp', 5)\n"
     ]
    }
   ],
   "source": [
    "def strsort(w):\n",
    "    return sorted(w), ''.join(sorted(w)), len(w)\n",
    "\n",
    "if __name__ == '__main__':\n",
    "    word = input('Enter your word')\n",
    "    res = strsort(word)\n",
    "    print(res)"
   ]
  },
  {
   "cell_type": "markdown",
   "metadata": {},
   "source": [
    "<br>"
   ]
  },
  {
   "cell_type": "markdown",
   "metadata": {},
   "source": [
    "## Write a program to get the key value from a given dictionary having nested dictionary init?"
   ]
  },
  {
   "cell_type": "code",
   "execution_count": 18,
   "metadata": {},
   "outputs": [],
   "source": [
    "def func_a(dit,k):\n",
    "    v = dit.get(k)\n",
    "    if v == None:\n",
    "        keys = dit.keys()\n",
    "        for key in keys:\n",
    "            if(isinstance(dit.get(key), dict)):\n",
    "                return func_a(dit.get(key), k)  \n",
    "    else:\n",
    "        return v"
   ]
  },
  {
   "cell_type": "code",
   "execution_count": 19,
   "metadata": {},
   "outputs": [
    {
     "name": "stdout",
     "output_type": "stream",
     "text": [
      "d\n"
     ]
    }
   ],
   "source": [
    "dict_a = {\"a\":{\"b\":{\"c\":\"d\"}}}\n",
    "\n",
    "r = func_a(dict_a, 'c')\n",
    "print(r)"
   ]
  },
  {
   "cell_type": "markdown",
   "metadata": {},
   "source": [
    "<br>"
   ]
  },
  {
   "cell_type": "markdown",
   "metadata": {},
   "source": [
    "## Write a program to sort the list based on the key value of a dictionary?<br>\n",
    "### Let say i have a list like  L = [{\"a\":7, \"b\":5}, {\"a\":3, \"b\":3}, {\"a\":5, \"b\":7}]<br>\n",
    "### i want to sort this list based on the value of key \"a\".<br>\n",
    "> output is like =  [{\"a\":3, \"b\":3}, {\"a\":5, \"b\":7}, {\"a\":7, \"b\":5}]"
   ]
  },
  {
   "cell_type": "code",
   "execution_count": 20,
   "metadata": {},
   "outputs": [
    {
     "data": {
      "text/plain": [
       "[{'a': 7, 'b': 5}, {'a': 3, 'b': 3}, {'a': 5, 'b': 7}]"
      ]
     },
     "execution_count": 20,
     "metadata": {},
     "output_type": "execute_result"
    }
   ],
   "source": [
    "l = [{\"a\":7, \"b\":5}, {\"a\":3, \"b\":3}, {\"a\":5, \"b\":7}]\n",
    "l"
   ]
  },
  {
   "cell_type": "code",
   "execution_count": null,
   "metadata": {},
   "outputs": [],
   "source": [
    "def sortlistonkey(list_a):\n",
    "    for i in range(len(list_a)):\n",
    "    v = list_a[i].get('a')\n",
    "    for x in range(i+1, len(list_a)):\n",
    "        if v > list_a[x].get('a'):\n",
    "            item = list_a[x]\n",
    "            list_a.remove(list_a[x])\n",
    "            list_a.insert(i, item)\n",
    "\n",
    "    return list_a"
   ]
  }
 ],
 "metadata": {
  "kernelspec": {
   "display_name": "Python 3",
   "language": "python",
   "name": "python3"
  },
  "language_info": {
   "codemirror_mode": {
    "name": "ipython",
    "version": 3
   },
   "file_extension": ".py",
   "mimetype": "text/x-python",
   "name": "python",
   "nbconvert_exporter": "python",
   "pygments_lexer": "ipython3",
   "version": "3.6.5"
  }
 },
 "nbformat": 4,
 "nbformat_minor": 4
}
