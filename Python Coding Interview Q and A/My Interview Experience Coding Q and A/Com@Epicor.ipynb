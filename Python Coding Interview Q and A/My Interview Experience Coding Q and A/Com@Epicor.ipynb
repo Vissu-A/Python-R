{
 "cells": [
  {
   "cell_type": "markdown",
   "metadata": {},
   "source": [
    "## Write a program to divide string with substring<br>\n",
    "\n",
    "### if main string is result of repeation of sub string then main string and repeation*substring are equal then find the string 'u' used to construct both main string and sub-string and return length of string(u).<br>\n",
    "### if main string not equal to repeation * substring the return -1\n"
   ]
  },
  {
   "cell_type": "code",
   "execution_count": 12,
   "metadata": {},
   "outputs": [],
   "source": [
    "def findSmallestDivisor(s, t):\n",
    "\n",
    "    rept = s.count(t)\n",
    "    print(rept)\n",
    "    if (rept > 1):\n",
    "        if (t * rept == s):\n",
    "            print('Divisibile')\n",
    "            us = set(t)\n",
    "            return len(us)\n",
    "    \n",
    "    elif (rept == 1):\n",
    "        if (s == t):\n",
    "            us = set(t)\n",
    "            return len(us)\n",
    "\n",
    "        else:\n",
    "            return -1\n",
    "    else:\n",
    "        return -1"
   ]
  },
  {
   "cell_type": "code",
   "execution_count": 13,
   "metadata": {},
   "outputs": [
    {
     "name": "stdout",
     "output_type": "stream",
     "text": [
      "Enter string\n",
      "abcdabcdabcd\n",
      "Enter sub string\n",
      "abcdabcd\n",
      "1\n",
      "-1\n"
     ]
    }
   ],
   "source": [
    "if __name__ == '__main__':\n",
    "\n",
    "    s = input('Enter string\\n')\n",
    "    t = input('Enter sub string\\n')\n",
    "\n",
    "    result = findSmallestDivisor(s, t)\n",
    "    print(result)"
   ]
  },
  {
   "cell_type": "code",
   "execution_count": null,
   "metadata": {},
   "outputs": [],
   "source": []
  }
 ],
 "metadata": {
  "kernelspec": {
   "display_name": "Python 3",
   "language": "python",
   "name": "python3"
  },
  "language_info": {
   "codemirror_mode": {
    "name": "ipython",
    "version": 3
   },
   "file_extension": ".py",
   "mimetype": "text/x-python",
   "name": "python",
   "nbconvert_exporter": "python",
   "pygments_lexer": "ipython3",
   "version": "3.6.5"
  }
 },
 "nbformat": 4,
 "nbformat_minor": 4
}
