{
 "cells": [
  {
   "cell_type": "markdown",
   "metadata": {},
   "source": [
    "## Write a program to sort the charecters in a given string and count them?"
   ]
  },
  {
   "cell_type": "code",
   "execution_count": 25,
   "metadata": {},
   "outputs": [
    {
     "name": "stdout",
     "output_type": "stream",
     "text": [
      "Enter your word\n",
      "apple\n",
      "(['a', 'e', 'l', 'p', 'p'], 'aelpp', 5)\n"
     ]
    }
   ],
   "source": [
    "def strsort(w):\n",
    "    return sorted(w), ''.join(sorted(w)), len(w)\n",
    "\n",
    "if __name__ == '__main__':\n",
    "    word = input('Enter your word\\n')\n",
    "    res = strsort(word)\n",
    "    print(res)"
   ]
  },
  {
   "cell_type": "markdown",
   "metadata": {},
   "source": [
    "<br>"
   ]
  },
  {
   "cell_type": "markdown",
   "metadata": {},
   "source": [
    "## Write a program to get the key value from a given dictionary having nested dictionary init?"
   ]
  },
  {
   "cell_type": "code",
   "execution_count": 26,
   "metadata": {},
   "outputs": [],
   "source": [
    "def func_a(dit,k):\n",
    "    v = dit.get(k)\n",
    "    if v == None:\n",
    "        keys = dit.keys()\n",
    "        for key in keys:\n",
    "            if(isinstance(dit.get(key), dict)):\n",
    "                return func_a(dit.get(key), k)  \n",
    "    else:\n",
    "        return v"
   ]
  },
  {
   "cell_type": "code",
   "execution_count": 27,
   "metadata": {},
   "outputs": [
    {
     "name": "stdout",
     "output_type": "stream",
     "text": [
      "d\n"
     ]
    }
   ],
   "source": [
    "if __name__ == '__main__':\n",
    "    dict_a = {\"a\":{\"b\":{\"c\":\"d\"}}}\n",
    "    r = func_a(dict_a, 'c')\n",
    "    print(r)"
   ]
  },
  {
   "cell_type": "markdown",
   "metadata": {},
   "source": [
    "<br>"
   ]
  },
  {
   "cell_type": "markdown",
   "metadata": {},
   "source": [
    "## Write a program to sort the list based on the key value of a dictionary?<br>\n",
    "### Let say i have a list like  L = [{\"a\":7, \"b\":5}, {\"a\":3, \"b\":3}, {\"a\":5, \"b\":7}]<br>\n",
    "### i want to sort this list based on the value of key \"a\".<br>\n",
    "> output is like =  [{\"a\":3, \"b\":3}, {\"a\":5, \"b\":7}, {\"a\":7, \"b\":5}]"
   ]
  },
  {
   "cell_type": "code",
   "execution_count": 88,
   "metadata": {},
   "outputs": [],
   "source": [
    "def sortlistonkey(l, k):\n",
    "    dit = {}\n",
    "    newlist = []\n",
    "    for i in range(len(l)):\n",
    "        v = l[i].get(k)\n",
    "        dit[v] = i\n",
    "    \n",
    "    kl = list(dit.keys())\n",
    "    kl.sort()\n",
    "    \n",
    "    for x in kl:\n",
    "        indx = dit[x]\n",
    "        newlist.append(l[indx])\n",
    "        \n",
    "    return newlist"
   ]
  },
  {
   "cell_type": "code",
   "execution_count": 102,
   "metadata": {},
   "outputs": [
    {
     "name": "stdout",
     "output_type": "stream",
     "text": [
      "Enter the size of the list 3\n",
      "Enter the element size 2\n",
      "Enter your key and value space seprated a 0\n",
      "Enter your key and value space seprated b 9\n",
      "Enter the element size 2\n",
      "Enter your key and value space seprated a 9\n",
      "Enter your key and value space seprated b 5\n",
      "Enter the element size 3\n",
      "Enter your key and value space seprated a -1\n",
      "Enter your key and value space seprated b 6\n",
      "Enter your key and value space seprated c 7\n",
      "[{'a': 0, 'b': 9}, {'a': 9, 'b': 5}, {'a': -1, 'b': 6, 'c': 7}]\n",
      "Enter your key a\n",
      "[{'a': -1, 'b': 6, 'c': 7}, {'a': 0, 'b': 9}, {'a': 9, 'b': 5}]\n"
     ]
    }
   ],
   "source": [
    "if __name__ == '__main__':\n",
    "    l = []\n",
    "    n = int(input('Enter the size of the list '))\n",
    "    for i in range(n):\n",
    "        dit = {}\n",
    "        elmt = int(input('Enter the element size '))\n",
    "        for x in range(elmt):\n",
    "            k,v = input('Enter your key and value space seprated ').split()\n",
    "            dit[k] = int(v)\n",
    "            \n",
    "        l.append(dit)\n",
    "    \n",
    "    print(l)\n",
    "            \n",
    "    k = input('Enter your key ')\n",
    "        \n",
    "    res = sortlistonkey(l, k)\n",
    "    print(res)"
   ]
  },
  {
   "cell_type": "code",
   "execution_count": null,
   "metadata": {},
   "outputs": [],
   "source": []
  }
 ],
 "metadata": {
  "kernelspec": {
   "display_name": "Python 3",
   "language": "python",
   "name": "python3"
  },
  "language_info": {
   "codemirror_mode": {
    "name": "ipython",
    "version": 3
   },
   "file_extension": ".py",
   "mimetype": "text/x-python",
   "name": "python",
   "nbconvert_exporter": "python",
   "pygments_lexer": "ipython3",
   "version": "3.6.5"
  }
 },
 "nbformat": 4,
 "nbformat_minor": 4
}
