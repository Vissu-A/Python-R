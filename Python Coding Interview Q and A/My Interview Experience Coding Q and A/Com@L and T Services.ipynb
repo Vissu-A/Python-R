{
 "cells": [
  {
   "cell_type": "code",
   "execution_count": 2,
   "metadata": {},
   "outputs": [
    {
     "ename": "TypeError",
     "evalue": "print() takes 0 positional arguments but 1 was given",
     "output_type": "error",
     "traceback": [
      "\u001b[1;31m---------------------------------------------------------------------------\u001b[0m",
      "\u001b[1;31mTypeError\u001b[0m                                 Traceback (most recent call last)",
      "\u001b[1;32m<ipython-input-2-149516cc9eb2>\u001b[0m in \u001b[0;36m<module>\u001b[1;34m\u001b[0m\n\u001b[0;32m      6\u001b[0m \u001b[1;33m\u001b[0m\u001b[0m\n\u001b[0;32m      7\u001b[0m \u001b[0ma\u001b[0m \u001b[1;33m=\u001b[0m\u001b[0mA\u001b[0m\u001b[1;33m(\u001b[0m\u001b[1;34m'JOHN'\u001b[0m\u001b[1;33m)\u001b[0m\u001b[1;33m\u001b[0m\u001b[0m\n\u001b[1;32m----> 8\u001b[1;33m \u001b[0ma\u001b[0m\u001b[1;33m.\u001b[0m\u001b[0mprint\u001b[0m\u001b[1;33m(\u001b[0m\u001b[1;33m)\u001b[0m\u001b[1;33m\u001b[0m\u001b[0m\n\u001b[0m",
      "\u001b[1;31mTypeError\u001b[0m: print() takes 0 positional arguments but 1 was given"
     ]
    }
   ],
   "source": [
    "class A:\n",
    "    def __init__(self, s):\n",
    "        self.s = s\n",
    "    def print():\n",
    "        pass\n",
    "    \n",
    "a =A('JOHN')\n",
    "a.print()"
   ]
  },
  {
   "cell_type": "markdown",
   "metadata": {},
   "source": [
    "#### find that the given 2 strings are annagram or not"
   ]
  },
  {
   "cell_type": "code",
   "execution_count": 1,
   "metadata": {},
   "outputs": [
    {
     "name": "stdout",
     "output_type": "stream",
     "text": [
      "Enter the 1st word: ant\n",
      "Enter the 2nd word: tan\n",
      "Annagram strings\n"
     ]
    }
   ],
   "source": [
    "s1 = input('Enter the 1st word: ')\n",
    "s2 = input('Enter the 2nd word: ')\n",
    "\n",
    "def is_annagram(x, y):\n",
    "    if ( ''.join(sorted(x)) == ''.join(sorted(y))):\n",
    "        return 'Annagram strings'\n",
    "    else:\n",
    "        return 'Not Annagram strings'\n",
    "        \n",
    "res = is_annagram(s1,s2)\n",
    "print(res)"
   ]
  },
  {
   "cell_type": "markdown",
   "metadata": {},
   "source": [
    "#### find the sum of values in dictionary without builtin methods"
   ]
  },
  {
   "cell_type": "code",
   "execution_count": 2,
   "metadata": {},
   "outputs": [
    {
     "name": "stdout",
     "output_type": "stream",
     "text": [
      "Sum of dictionary values is:  10\n"
     ]
    }
   ],
   "source": [
    "d = {'a': 1, 'b':2, 'c':3, 'd':4}\n",
    "\n",
    "def dict_val_sum(dt):\n",
    "    total = 0\n",
    "    for item in dt:\n",
    "        total += dt.get(item, 0)\n",
    "    return total\n",
    "\n",
    "res = dict_val_sum(d)\n",
    "print('Sum of dictionary values is: ', res)"
   ]
  },
  {
   "cell_type": "markdown",
   "metadata": {},
   "source": [
    "#### Reverse string without using builtin methods"
   ]
  },
  {
   "cell_type": "code",
   "execution_count": 3,
   "metadata": {},
   "outputs": [
    {
     "name": "stdout",
     "output_type": "stream",
     "text": [
      "TENET\n"
     ]
    }
   ],
   "source": [
    "s = 'TENET'\n",
    "rs = ''\n",
    "for i in range(len(s)):\n",
    "\tidx = len(s)-i  # 5-0=5, 5-1=4, 5-2=3, 5-3=2, 5-4=1\n",
    "\trs = rs+s[i]\n",
    "\n",
    "print(rs)"
   ]
  },
  {
   "cell_type": "code",
   "execution_count": null,
   "metadata": {},
   "outputs": [],
   "source": []
  },
  {
   "cell_type": "markdown",
   "metadata": {},
   "source": [
    "#### How to call super class construtor from child class constructor"
   ]
  },
  {
   "cell_type": "code",
   "execution_count": 6,
   "metadata": {},
   "outputs": [],
   "source": [
    "class vichel:\n",
    "    def __init__(self, v):\n",
    "        self.v = v\n",
    "\n",
    "    def showwheel(self):\n",
    "        print('Wheels from parent class')\n",
    "        print(self.v)\n",
    "\n",
    "class car(vichel):\n",
    "    def __init__(self, x):\n",
    "        super().__init__(x)"
   ]
  },
  {
   "cell_type": "code",
   "execution_count": 7,
   "metadata": {},
   "outputs": [
    {
     "name": "stdout",
     "output_type": "stream",
     "text": [
      "Wheels from parent class\n",
      "4\n"
     ]
    }
   ],
   "source": [
    "cobj = car(4)\n",
    "cobj.showwheel()"
   ]
  },
  {
   "cell_type": "markdown",
   "metadata": {},
   "source": [
    "#### How to call super class method from child class"
   ]
  },
  {
   "cell_type": "code",
   "execution_count": 14,
   "metadata": {},
   "outputs": [],
   "source": [
    "class vichel:\n",
    "    def __init__(self, v):\n",
    "        self.v = v\n",
    "\n",
    "    def showwheel(self):\n",
    "        print('Wheels from parent class')\n",
    "        print(self.v)\n",
    "\n",
    "class car(vichel):\n",
    "    def __init__(self, x, y):\n",
    "        self.d = y\n",
    "        super().__init__(x)\n",
    "    \n",
    "    def showdoors(self):\n",
    "        super().showwheel()\n",
    "        print('Doors from child class')\n",
    "        print(self.d)"
   ]
  },
  {
   "cell_type": "code",
   "execution_count": 15,
   "metadata": {},
   "outputs": [
    {
     "name": "stdout",
     "output_type": "stream",
     "text": [
      "Wheels from parent class\n",
      "5\n",
      "Doors from child class\n",
      "4\n"
     ]
    }
   ],
   "source": [
    "cobj = car(5,4)\n",
    "cobj.showdoors()"
   ]
  },
  {
   "cell_type": "code",
   "execution_count": null,
   "metadata": {},
   "outputs": [],
   "source": []
  },
  {
   "cell_type": "markdown",
   "metadata": {},
   "source": [
    "#### are class variables shared by all instances.\n",
    "\n",
    "> that means we created multiple objects for the same class, and if you change class variabile using one object does this change\n",
    "will reflects to class variabiles in all objects or not.\n",
    "\n",
    "#### answer is NO\n",
    "> see this example"
   ]
  },
  {
   "cell_type": "code",
   "execution_count": 45,
   "metadata": {},
   "outputs": [
    {
     "name": "stdout",
     "output_type": "stream",
     "text": [
      "class variable \"name\" before change with object f1:  apple\n",
      "class variable \"name\" before change with object f2:  apple\n",
      "#######################################################\n",
      "## Changing the class variable \"name\" with object f1 ##\n",
      "#######################################################\n",
      "class variable \"name\" after change with object f1:  orange\n",
      "class variable \"name\" after change with object f2:  apple\n"
     ]
    }
   ],
   "source": [
    "class fruit:\n",
    "    name = 'apple'\n",
    "    def __init__(self, cost):\n",
    "        self.cost = cost\n",
    "        \n",
    "f1 = fruit(30)\n",
    "f2 = fruit(10)\n",
    "\n",
    "print('class variable \"name\" before change with object f1: ', f1.name)\n",
    "print('class variable \"name\" before change with object f2: ', f2.name)\n",
    "\n",
    "print('#######################################################')\n",
    "print('## Changing the class variable \"name\" with object f1 ##')\n",
    "print('#######################################################')\n",
    "f1.name = 'orange'\n",
    "print('class variable \"name\" after change with object f1: ',f1.name)\n",
    "print('class variable \"name\" after change with object f2: ',f2.name)"
   ]
  },
  {
   "cell_type": "code",
   "execution_count": 46,
   "metadata": {},
   "outputs": [
    {
     "name": "stdout",
     "output_type": "stream",
     "text": [
      "1969967487632\n",
      "1969967488248\n"
     ]
    }
   ],
   "source": [
    "print(id(f1))\n",
    "print(id(f2))"
   ]
  },
  {
   "cell_type": "code",
   "execution_count": 47,
   "metadata": {},
   "outputs": [
    {
     "name": "stdout",
     "output_type": "stream",
     "text": [
      "1969968109696\n",
      "1969967432792\n"
     ]
    }
   ],
   "source": [
    "print(id(f1.name))\n",
    "print(id(f2.name))"
   ]
  },
  {
   "cell_type": "code",
   "execution_count": 48,
   "metadata": {},
   "outputs": [
    {
     "name": "stdout",
     "output_type": "stream",
     "text": [
      "1925541808\n",
      "1925541168\n"
     ]
    }
   ],
   "source": [
    "print(id(f1.cost))\n",
    "print(id(f2.cost))"
   ]
  },
  {
   "cell_type": "code",
   "execution_count": null,
   "metadata": {},
   "outputs": [],
   "source": []
  }
 ],
 "metadata": {
  "kernelspec": {
   "display_name": "Python 3",
   "language": "python",
   "name": "python3"
  },
  "language_info": {
   "codemirror_mode": {
    "name": "ipython",
    "version": 3
   },
   "file_extension": ".py",
   "mimetype": "text/x-python",
   "name": "python",
   "nbconvert_exporter": "python",
   "pygments_lexer": "ipython3",
   "version": "3.6.5"
  }
 },
 "nbformat": 4,
 "nbformat_minor": 4
}
