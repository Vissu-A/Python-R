{
 "cells": [
  {
   "cell_type": "markdown",
   "metadata": {},
   "source": [
    "## **1. Write a program to interchange first and last elements in a list?**"
   ]
  },
  {
   "cell_type": "code",
   "execution_count": 2,
   "metadata": {},
   "outputs": [
    {
     "data": {
      "text/plain": [
       "[15, 5, 7, 9, 11, 13, 1]"
      ]
     },
     "execution_count": 2,
     "metadata": {},
     "output_type": "execute_result"
    }
   ],
   "source": [
    "li = [1,5,7,9,11,13,15]\n",
    "\n",
    "first = li[0]\n",
    "last = li[-1]\n",
    "\n",
    "li[0] = last\n",
    "li[-1] = first\n",
    "\n",
    "print(li)"
   ]
  },
  {
   "cell_type": "code",
   "execution_count": 4,
   "metadata": {},
   "outputs": [
    {
     "name": "stdout",
     "output_type": "stream",
     "text": [
      "[15, 5, 7, 9, 11, 13, 1]\n"
     ]
    }
   ],
   "source": [
    "li = [1,5,7,9,11,13,15]\n",
    "\n",
    "first = li[0]\n",
    "\n",
    "li[0] = li[-1]\n",
    "li[-1] = first\n",
    "\n",
    "print(li)"
   ]
  },
  {
   "cell_type": "markdown",
   "metadata": {},
   "source": [
    "## **7. Write a program to swap two elements in a list?**"
   ]
  },
  {
   "cell_type": "code",
   "execution_count": 5,
   "metadata": {},
   "outputs": [
    {
     "name": "stdout",
     "output_type": "stream",
     "text": [
      "[1, 5, 7, 13, 11, 9, 15]\n"
     ]
    }
   ],
   "source": [
    "li = [1,5,7,9,11,13,15]\n",
    "\n",
    "def swapelement(li, pos1, pos2):\n",
    "    li[pos1], li[pos2] = li[pos2], li[pos1]\n",
    "    print(li)\n",
    "    \n",
    "    \n",
    "swapelement(li, 3,5)"
   ]
  },
  {
   "cell_type": "code",
   "execution_count": 8,
   "metadata": {},
   "outputs": [
    {
     "name": "stdout",
     "output_type": "stream",
     "text": [
      "['hi', 'world', 'hi', 'hello', 'world', 'hello']\n"
     ]
    }
   ],
   "source": [
    "li = ['hello', 'hi', 'world', 'hi','hello','world','hello']\n",
    "word = 'hello'\n",
    "n = 3\n",
    "\n",
    "for w in li:\n",
    "    cnt = li.count(w)\n",
    "    \n",
    "    if cnt == n:\n",
    "        li.remove(w)\n",
    "\n",
    "print(li)\n"
   ]
  },
  {
   "cell_type": "code",
   "execution_count": 35,
   "metadata": {},
   "outputs": [
    {
     "name": "stdout",
     "output_type": "stream",
     "text": [
      "hello 1\n",
      "hello 2\n",
      "hello 3\n",
      "['hello', 'hi', 'world', 'hi', 'hello', 'world']\n"
     ]
    }
   ],
   "source": [
    "li = ['hello', 'hi', 'world', 'hi','hello','world','hello']\n",
    "word = 'hello'\n",
    "n = 3\n",
    "cnt = 0\n",
    "\n",
    "for i in range(0, len(li)):\n",
    "    if (li[i] == word):\n",
    "        cnt += 1\n",
    "        \n",
    "        print(li[i], cnt)\n",
    "        if (cnt == n):\n",
    "            del(li[i])\n",
    "\n",
    "print(li)"
   ]
  },
  {
   "cell_type": "markdown",
   "metadata": {},
   "source": [
    "## **Different ways to clear a list in Python**"
   ]
  },
  {
   "cell_type": "code",
   "execution_count": 39,
   "metadata": {},
   "outputs": [
    {
     "name": "stdout",
     "output_type": "stream",
     "text": [
      "Before:  ['hello', 'hi', 'world', 'hi', 'hello', 'world']\n",
      "After:  []\n"
     ]
    }
   ],
   "source": [
    "li = ['hello', 'hi', 'world', 'hi', 'hello', 'world']\n",
    "\n",
    "print('Before: ', li)\n",
    "\n",
    "li.clear()\n",
    "\n",
    "print('After: ', li)"
   ]
  },
  {
   "cell_type": "code",
   "execution_count": 41,
   "metadata": {},
   "outputs": [
    {
     "name": "stdout",
     "output_type": "stream",
     "text": [
      "Before:  ['hello', 'hi', 'world', 'hi', 'hello', 'world']\n",
      "After:  []\n"
     ]
    }
   ],
   "source": [
    "li = ['hello', 'hi', 'world', 'hi', 'hello', 'world']\n",
    "\n",
    "print('Before: ', li)\n",
    "\n",
    "li *= 0\n",
    "\n",
    "print('After: ', li)"
   ]
  },
  {
   "cell_type": "code",
   "execution_count": 43,
   "metadata": {},
   "outputs": [
    {
     "name": "stdout",
     "output_type": "stream",
     "text": [
      "Before:  ['hello', 'hi', 'world', 'hi', 'hello', 'world']\n",
      "After:  []\n"
     ]
    }
   ],
   "source": [
    "li = ['hello', 'hi', 'world', 'hi', 'hello', 'world']\n",
    "\n",
    "print('Before: ', li)\n",
    "\n",
    "del(li[:])\n",
    "\n",
    "print('After: ', li)"
   ]
  },
  {
   "cell_type": "code",
   "execution_count": 49,
   "metadata": {},
   "outputs": [
    {
     "data": {
      "text/plain": [
       "1"
      ]
     },
     "execution_count": 49,
     "metadata": {},
     "output_type": "execute_result"
    }
   ],
   "source": [
    "#Python program to find smallest number in a list\n",
    "\n",
    "li = [1,58,56,48,88]\n",
    "\n",
    "li.sort()\n",
    "li[0]"
   ]
  },
  {
   "cell_type": "code",
   "execution_count": 51,
   "metadata": {},
   "outputs": [
    {
     "data": {
      "text/plain": [
       "88"
      ]
     },
     "execution_count": 51,
     "metadata": {},
     "output_type": "execute_result"
    }
   ],
   "source": [
    "#Python program to find largest number in a list\n",
    "\n",
    "li = [1,58,56,48,88]\n",
    "\n",
    "li.sort()\n",
    "li[-1]"
   ]
  },
  {
   "cell_type": "code",
   "execution_count": 53,
   "metadata": {},
   "outputs": [
    {
     "data": {
      "text/plain": [
       "58"
      ]
     },
     "execution_count": 53,
     "metadata": {},
     "output_type": "execute_result"
    }
   ],
   "source": [
    "#Python program to find second largest number in a list\n",
    "\n",
    "li = [1,58,56,48,88]\n",
    "\n",
    "li.sort()\n",
    "li[-2]"
   ]
  },
  {
   "cell_type": "code",
   "execution_count": 55,
   "metadata": {},
   "outputs": [
    {
     "data": {
      "text/plain": [
       "[58, 88]"
      ]
     },
     "execution_count": 55,
     "metadata": {},
     "output_type": "execute_result"
    }
   ],
   "source": [
    "#Python program to find N largest numbers in a list\n",
    "\n",
    "li = [1,58,56,48,88]\n",
    "n = 2\n",
    "\n",
    "li.sort()\n",
    "li[-n:]"
   ]
  }
 ],
 "metadata": {
  "kernelspec": {
   "display_name": "Python 3",
   "language": "python",
   "name": "python3"
  },
  "language_info": {
   "codemirror_mode": {
    "name": "ipython",
    "version": 3
   },
   "file_extension": ".py",
   "mimetype": "text/x-python",
   "name": "python",
   "nbconvert_exporter": "python",
   "pygments_lexer": "ipython3",
   "version": "3.6.5"
  }
 },
 "nbformat": 4,
 "nbformat_minor": 4
}
