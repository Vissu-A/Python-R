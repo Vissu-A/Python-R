{
 "cells": [
  {
   "cell_type": "markdown",
   "metadata": {},
   "source": [
    "## **1. Write a program to check given number is palindrome or not?**"
   ]
  },
  {
   "cell_type": "markdown",
   "metadata": {},
   "source": [
    "**Palindrome means if we write the input number in reverse order it should be same as the input number.**\n",
    "\n",
    "**Example:**\n",
    "> inputno = 151<br>\n",
    "> reverseno = 151<br>\n",
    "\n",
    "> inputno == reverseno  ---> Palindrome number<br>\n",
    "> inputno != reverseno  ---> Not Palindrome number<br>"
   ]
  },
  {
   "cell_type": "markdown",
   "metadata": {},
   "source": [
    "**Method-1**"
   ]
  },
  {
   "cell_type": "code",
   "execution_count": 15,
   "metadata": {},
   "outputs": [
    {
     "name": "stdout",
     "output_type": "stream",
     "text": [
      "Enter your number \n",
      "151\n",
      "reverse of given number=  151\n",
      "151  is palindrome number\n"
     ]
    }
   ],
   "source": [
    "n = int(input('Enter your number \\n'))\n",
    "temp = n\n",
    "rev = 0\n",
    "while n > 0:\n",
    "    rem = n % 10\n",
    "    rev = rev*10+rem\n",
    "    n = n//10\n",
    "\n",
    "print('reverse of given number= ',rev)\n",
    "\n",
    "if temp == rev:\n",
    "    print(temp,' is palindrome number')\n",
    "\n",
    "else:\n",
    "    print(temp,' is not palindrome number')"
   ]
  },
  {
   "cell_type": "markdown",
   "metadata": {},
   "source": [
    "**Method-2**"
   ]
  },
  {
   "cell_type": "code",
   "execution_count": 13,
   "metadata": {},
   "outputs": [
    {
     "name": "stdout",
     "output_type": "stream",
     "text": [
      "Enter your number157\n",
      "157  is not palindrome number\n"
     ]
    }
   ],
   "source": [
    "n = input('Enter your number')\n",
    "\n",
    "if n == n[::-1]:\n",
    "    print(n,' is palindrome number')\n",
    "    \n",
    "else:\n",
    "    print(n,' is not palindrome number')"
   ]
  },
  {
   "cell_type": "markdown",
   "metadata": {},
   "source": [
    "<br>"
   ]
  },
  {
   "cell_type": "markdown",
   "metadata": {},
   "source": [
    "## **2. Write a program to check given String is palindrome or not?**"
   ]
  },
  {
   "cell_type": "markdown",
   "metadata": {},
   "source": [
    "**Palindrome means if we write the input string in reverse order it should be same as the input string.**\n",
    "\n",
    "**Example:**\n",
    "> inputstr = 'aba'<br>\n",
    "> reversestr = 'aba'<br>\n",
    "\n",
    "> inputstr == reversestr  ---> Palindrome stringr<br>\n",
    "> inputstr != reversestr  ---> Not Palindrome string<br>"
   ]
  },
  {
   "cell_type": "code",
   "execution_count": 16,
   "metadata": {},
   "outputs": [
    {
     "name": "stdout",
     "output_type": "stream",
     "text": [
      "Enter your word \n",
      "aba\n",
      "Reverse of given word is=  aba\n",
      "aba  is a palindrome\n"
     ]
    }
   ],
   "source": [
    "word = input('Enter your word \\n')\n",
    "\n",
    "rev_word = word[::-1]\n",
    "\n",
    "print('Reverse of given word is= ', rev_word)\n",
    "\n",
    "if (word == rev_word):\n",
    "    print(word, ' is a palindrome')\n",
    "\n",
    "else:\n",
    "    print(word, 'is not a palindrome')"
   ]
  },
  {
   "cell_type": "markdown",
   "metadata": {},
   "source": [
    "<br>"
   ]
  },
  {
   "cell_type": "markdown",
   "metadata": {},
   "source": [
    "## **3. Write a program to count the number of digits in given number?**"
   ]
  },
  {
   "cell_type": "markdown",
   "metadata": {},
   "source": [
    "**Example:**\n",
    "> inputno = 15478<br>\n",
    "> output = 5<br>"
   ]
  },
  {
   "cell_type": "code",
   "execution_count": 17,
   "metadata": {},
   "outputs": [
    {
     "name": "stdout",
     "output_type": "stream",
     "text": [
      "Enter your number \n",
      "15478\n",
      "5\n"
     ]
    }
   ],
   "source": [
    "n = int(input('Enter your number \\n'))\n",
    "cnt = 0\n",
    "while (n>0):\n",
    "    cnt += 1\n",
    "    n = n//10\n",
    "\n",
    "print(cnt)"
   ]
  },
  {
   "cell_type": "markdown",
   "metadata": {},
   "source": [
    "<br>"
   ]
  },
  {
   "cell_type": "markdown",
   "metadata": {},
   "source": [
    "## **4. Write a program to sum of the digits in a given number?**"
   ]
  },
  {
   "cell_type": "markdown",
   "metadata": {},
   "source": [
    "**Example:**\n",
    "> inputno = 357<br>\n",
    "> output = 15<br>"
   ]
  },
  {
   "cell_type": "markdown",
   "metadata": {},
   "source": [
    "**Method-1**"
   ]
  },
  {
   "cell_type": "code",
   "execution_count": 19,
   "metadata": {},
   "outputs": [
    {
     "name": "stdout",
     "output_type": "stream",
     "text": [
      "Enter your number \n",
      "357\n",
      "15\n"
     ]
    }
   ],
   "source": [
    "n = int(input('Enter your number \\n'))\n",
    "total = 0\n",
    "while(n>0):\n",
    "    digit = n%10\n",
    "    total = total+digit\n",
    "    n = n//10\n",
    "\n",
    "print(total)"
   ]
  },
  {
   "cell_type": "markdown",
   "metadata": {},
   "source": [
    "**Method-2**"
   ]
  },
  {
   "cell_type": "code",
   "execution_count": 21,
   "metadata": {},
   "outputs": [
    {
     "name": "stdout",
     "output_type": "stream",
     "text": [
      "Enter your number \n",
      "357\n",
      "15\n"
     ]
    }
   ],
   "source": [
    "n = input('Enter your number \\n')\n",
    "digits = []\n",
    "for i in n:\n",
    "    digits.append(int(i))\n",
    "    \n",
    "print(sum(digits))"
   ]
  },
  {
   "cell_type": "markdown",
   "metadata": {},
   "source": [
    "<br>"
   ]
  },
  {
   "cell_type": "markdown",
   "metadata": {},
   "source": [
    "## **5. Write a program to check given number is prime number or not?**"
   ]
  },
  {
   "cell_type": "markdown",
   "metadata": {},
   "source": [
    "**Prime number is a number which has only 2 factors, 1 and itself.**<br>\n",
    "**Example:**<br>\n",
    "> inputno = 11<br>\n",
    "> 11 is divisible by 1 and itself(11) only, i.e, it has only 2 factors, hence 11 is prime number"
   ]
  },
  {
   "cell_type": "code",
   "execution_count": 23,
   "metadata": {},
   "outputs": [
    {
     "name": "stdout",
     "output_type": "stream",
     "text": [
      "Enter your number \n",
      "7\n",
      "7  is a prime number\n"
     ]
    }
   ],
   "source": [
    "n = int(input('Enter your number \\n'))\n",
    "f = 0\n",
    "if n > 1:\n",
    "    for i in range(2, (n//2+1)):\n",
    "        if n % i == 0:\n",
    "            f += 1\n",
    "            break\n",
    "\n",
    "    if f != 0:\n",
    "        print(n , ' is not a prime number')\n",
    "    else:\n",
    "        print(n, ' is a prime number')\n",
    "\n",
    "else:\n",
    "    print(n, ' is not a prime number')"
   ]
  },
  {
   "cell_type": "markdown",
   "metadata": {},
   "source": [
    "<br>"
   ]
  },
  {
   "cell_type": "markdown",
   "metadata": {},
   "source": [
    "## **6. Write a program to print prime numbers between given range?**"
   ]
  },
  {
   "cell_type": "code",
   "execution_count": 9,
   "metadata": {},
   "outputs": [
    {
     "name": "stdout",
     "output_type": "stream",
     "text": [
      "Enter your number \n",
      "10\n",
      "[2, 3, 5, 7]\n"
     ]
    }
   ],
   "source": [
    "i = int(input('Enter your number \\n'))\n",
    "prime = []\n",
    "\n",
    "if i > 1:\n",
    "    for num in range(2, i+1):\n",
    "        f = 0\n",
    "        for x in range(2, num+1):\n",
    "#             print(num,'>>>',x)\n",
    "#             print(num % x)\n",
    "            if num % x == 0:\n",
    "                f += 1\n",
    "#         print(num, '===', f)\n",
    "        if f == 1:\n",
    "            prime.append(num)\n",
    "\n",
    "print(prime)"
   ]
  },
  {
   "cell_type": "markdown",
   "metadata": {},
   "source": [
    "<br>"
   ]
  },
  {
   "cell_type": "markdown",
   "metadata": {},
   "source": [
    "Write a program using python built in feature to remove repeated/duplicate characters/numbers.<br>\n",
    "\ti) var1 = 'organization'<br>\n",
    "\tii) var2 = [1,2,3,4,2,3,4,5,6,6]<br>"
   ]
  },
  {
   "cell_type": "code",
   "execution_count": 25,
   "metadata": {},
   "outputs": [
    {
     "name": "stdout",
     "output_type": "stream",
     "text": [
      "{1, 2, 3, 4, 5, 6}\n",
      "{'o', 'z', 't', 'g', 'n', 'a', 'r', 'i'}\n"
     ]
    }
   ],
   "source": [
    "var1 = 'organization'\n",
    "var2 = [1,2,3,4,2,3,4,5,6,6]\n",
    "\n",
    "var2 = set(var2)\n",
    "print(var2)\n",
    "    \n",
    "print(set([x for x in var1]))"
   ]
  },
  {
   "cell_type": "markdown",
   "metadata": {},
   "source": [
    "Show different possible ways to create a variable with following string.<br>\n",
    "\tTom's response is \"I'm good\""
   ]
  },
  {
   "cell_type": "code",
   "execution_count": 175,
   "metadata": {},
   "outputs": [
    {
     "name": "stdout",
     "output_type": "stream",
     "text": [
      "Tom's response is \"I'm good\n",
      "Tom's response is \"I'm good\"\n"
     ]
    }
   ],
   "source": [
    "word = \"Tom's response is \\\"I'm good\"\n",
    "print(word)\n",
    "\n",
    "word = 'Tom\\'s response is \\\"I\\'m good\"'\n",
    "print(word)"
   ]
  },
  {
   "cell_type": "markdown",
   "metadata": {},
   "source": [
    "Show different possible ways to get the value of mark.\n",
    "\tstudent = {\n",
    "\t  \"name\": \"Tom\",\n",
    "\t  \"class\": 8,\n",
    "\t  \"mark\": 75\n",
    "\t}"
   ]
  },
  {
   "cell_type": "code",
   "execution_count": 31,
   "metadata": {},
   "outputs": [
    {
     "name": "stdout",
     "output_type": "stream",
     "text": [
      "75\n",
      "75\n",
      "75\n"
     ]
    }
   ],
   "source": [
    "student = { \"name\": \"Tom\", \"class\": 8, \"mark\": 75 }\n",
    "\n",
    "print(student['mark'])\n",
    "print(student.get('mark'))\n",
    "print(student.get('mark', 'not found'))"
   ]
  },
  {
   "cell_type": "markdown",
   "metadata": {},
   "source": [
    "Show different possible ways to create an empty dictionary."
   ]
  },
  {
   "cell_type": "code",
   "execution_count": 33,
   "metadata": {},
   "outputs": [
    {
     "name": "stdout",
     "output_type": "stream",
     "text": [
      "{}\n",
      "{}\n"
     ]
    }
   ],
   "source": [
    "dct1 = {}\n",
    "\n",
    "dct2 = dict()\n",
    "\n",
    "print(dct1)\n",
    "print(dct2)"
   ]
  },
  {
   "cell_type": "markdown",
   "metadata": {},
   "source": [
    "\n",
    "5. Write a program in all possible ways to remove the ‘mark‘ element from a dictionary.\n",
    "\tstudent = {\n",
    "\t  \"name\": \"Tom\",\n",
    "\t  \"class\": 8,\n",
    "\t  \"mark\": 75\n",
    "\t}"
   ]
  },
  {
   "cell_type": "code",
   "execution_count": 41,
   "metadata": {},
   "outputs": [
    {
     "name": "stdout",
     "output_type": "stream",
     "text": [
      "{'name': 'Tom', 'class': 8}\n"
     ]
    }
   ],
   "source": [
    "student = { \"name\": \"Tom\", \"class\": 8, \"mark\": 75 }\n",
    "student.popitem()\n",
    "\n",
    "print(student)"
   ]
  },
  {
   "cell_type": "markdown",
   "metadata": {},
   "source": [
    "Print the value of history without looping.\n",
    "\tsample_dict = {\n",
    "\t   \"class\": {\n",
    "\t\t  \"student\": {\n",
    "\t\t\t \"name\": \"Tom\",\n",
    "\t\t\t \"mark\": [\n",
    "\t\t\t\t (\"physics\", 70),\n",
    "\t\t\t\t (\"history\", 80)\n",
    "\t\t\t ]\n",
    "\t\t  }\n",
    "\t   }\n",
    "\t}\n"
   ]
  },
  {
   "cell_type": "code",
   "execution_count": 43,
   "metadata": {},
   "outputs": [
    {
     "data": {
      "text/plain": [
       "80"
      ]
     },
     "execution_count": 43,
     "metadata": {},
     "output_type": "execute_result"
    }
   ],
   "source": [
    "sample_dict = { \"class\": { \"student\": { \"name\": \"Tom\", \"mark\": [ (\"physics\", 70), (\"history\", 80) ] } } }\n",
    "\n",
    "sample_dict['class']['student']['mark'][1][1]"
   ]
  },
  {
   "cell_type": "markdown",
   "metadata": {},
   "source": [
    " i) Get the list of all keys. <br>\n",
    " ii) Get the list of all values.<br>\n",
    "\tstudent = {\n",
    "\t  \"name\": \"Tom\",\n",
    "\t  \"class\": 8,\n",
    "\t  \"marks\": 75\n",
    "\t}"
   ]
  },
  {
   "cell_type": "code",
   "execution_count": 44,
   "metadata": {},
   "outputs": [
    {
     "name": "stdout",
     "output_type": "stream",
     "text": [
      "dict_keys(['name', 'class', 'marks'])\n",
      "dict_values(['Tom', 8, 75])\n"
     ]
    }
   ],
   "source": [
    "student = { \"name\": \"Tom\", \"class\": 8, \"marks\": 75 }\n",
    "\n",
    "print(student.keys())\n",
    "print(student.values())"
   ]
  },
  {
   "cell_type": "markdown",
   "metadata": {},
   "source": [
    " Write a code to sort a numerical list.\n",
    "\tlist = ['2', '5', '7', '8', '1', '10']"
   ]
  },
  {
   "cell_type": "code",
   "execution_count": 53,
   "metadata": {},
   "outputs": [
    {
     "name": "stdout",
     "output_type": "stream",
     "text": [
      "['1', '10', '2', '5', '7', '8']\n",
      "[1, 2, 5, 7, 8, 10]\n"
     ]
    }
   ],
   "source": [
    "# Here numbers are in string format\n",
    "list = ['2', '5', '7', '8', '1', '10']\n",
    "list.sort()\n",
    "\n",
    "print(list)\n",
    "\n",
    "\n",
    "list = ['2', '5', '7', '8', '1', '10']\n",
    "\n",
    "nlist = [int(x) for x in list]  # coverting numbers into integer format\n",
    "nlist.sort()\n",
    "print(nlist)"
   ]
  },
  {
   "cell_type": "markdown",
   "metadata": {},
   "source": [
    "Write a lambda function to add two numbers and call the lambda function."
   ]
  },
  {
   "cell_type": "code",
   "execution_count": 83,
   "metadata": {},
   "outputs": [
    {
     "name": "stdout",
     "output_type": "stream",
     "text": [
      "12\n"
     ]
    }
   ],
   "source": [
    "x = lambda x,y  : x+y\n",
    "print(x(5,7))"
   ]
  },
  {
   "cell_type": "markdown",
   "metadata": {},
   "source": [
    "Print the common elements in the below list in optimal way.\n",
    "\tlist_1 = [(4,), (5,), (6,), (8,)]\n",
    "\tlist_2 = [(3,), (6,), (5,), (7,)]"
   ]
  },
  {
   "cell_type": "code",
   "execution_count": 178,
   "metadata": {},
   "outputs": [
    {
     "name": "stdout",
     "output_type": "stream",
     "text": [
      "[(4,), (5,), (6,), (8,)]\n",
      "[(3,), (6,), (5,), (7,)]\n",
      "{(5,), (6,)}\n"
     ]
    }
   ],
   "source": [
    "list1 = [(4,), (5,), (6,), (8,)] \n",
    "list2 = [(3,), (6,), (5,), (7,)]\n",
    "\n",
    "print(set(list1).intersection(set(list2)))"
   ]
  },
  {
   "cell_type": "markdown",
   "metadata": {},
   "source": [
    "Write a simple reg expression to identify numbers in a string."
   ]
  },
  {
   "cell_type": "code",
   "execution_count": 87,
   "metadata": {},
   "outputs": [
    {
     "name": "stdout",
     "output_type": "stream",
     "text": [
      "['566565']\n"
     ]
    }
   ],
   "source": [
    "import re\n",
    "\n",
    "word = 'jjnfd566565sd'\n",
    "\n",
    "array = re.findall(r'[0-9]+', word) \n",
    "\n",
    "print(array)"
   ]
  },
  {
   "cell_type": "markdown",
   "metadata": {},
   "source": [
    "Using list comprehension, print list of all the even number from 0 to 20 and multiply each even number with 2."
   ]
  },
  {
   "cell_type": "code",
   "execution_count": 92,
   "metadata": {},
   "outputs": [
    {
     "data": {
      "text/plain": [
       "[0, 4, 8, 12, 16, 20, 24, 28, 32, 36, 40]"
      ]
     },
     "execution_count": 92,
     "metadata": {},
     "output_type": "execute_result"
    }
   ],
   "source": [
    "li = range(0,21)\n",
    "\n",
    "[x*2 for x in li if x % 2 ==0 ]"
   ]
  },
  {
   "cell_type": "markdown",
   "metadata": {},
   "source": [
    "Rewrite the following code in optimized way:\n",
    "\tweek = {}\n",
    "\tweek['sun'] = 0\n",
    "\tweek['mon'] = 1\n",
    "\tweek['tue'] = 2\n",
    "\tweek['wed'] = 3\n",
    "\tweek['thu'] = 4\n",
    "\tweek['fri'] = 5\n",
    "\tweek['sat'] = 6\n",
    "\tfor key, value in week.items():\n",
    "\t\tif value%2 == 0:\n",
    "\t\t\tprint(key, ': Even')\n",
    "\t\telse:\n",
    "\t\t\tprint(key, ': Odd')"
   ]
  },
  {
   "cell_type": "code",
   "execution_count": null,
   "metadata": {},
   "outputs": [],
   "source": [
    "week = {}\n",
    "week['sun'] = 0\n",
    "week['mon'] = 1 \n",
    "week['tue'] = 2 \n",
    "week['wed'] = 3 \n",
    "week['thu'] = 4 \n",
    "week['fri'] = 5 \n",
    "week['sat'] = 6 \n",
    "\n",
    "for key, value in week.items(): \n",
    "    \n",
    "    if value%2 == 0: \n",
    "        print(key, ': Even') \n",
    "    else: \n",
    "        print(key, ': Odd')"
   ]
  },
  {
   "cell_type": "code",
   "execution_count": 105,
   "metadata": {},
   "outputs": [
    {
     "name": "stdout",
     "output_type": "stream",
     "text": [
      "sun : Even\n",
      "mon : Odd\n",
      "tue : Odd\n",
      "wed : Even\n",
      "thu : Odd\n",
      "fri : Odd\n",
      "sat : Even\n"
     ]
    },
    {
     "data": {
      "text/plain": [
       "{None}"
      ]
     },
     "execution_count": 105,
     "metadata": {},
     "output_type": "execute_result"
    }
   ],
   "source": [
    "week = {'sun':0, 'mon':1, 'tue':3, 'wed':4, 'thu':5, 'fri':5, 'sat':6}\n",
    "\n",
    "{print(key, ': Even') if value%2 == 0 else print(key, ': Odd') for key, value in week.items()}"
   ]
  },
  {
   "cell_type": "markdown",
   "metadata": {},
   "source": [
    "Rewrite the following code in optimized way:\n",
    "\tword = 'organization'\n",
    "\tmydict = {}\n",
    "\tfor c in word:\n",
    "\t\tif c not in mydict:\n",
    "\t\t\tmydict[c] = 0\n",
    "\t\tmydict[c] += 1\n",
    "\tprint(mydict)"
   ]
  },
  {
   "cell_type": "code",
   "execution_count": 116,
   "metadata": {},
   "outputs": [
    {
     "name": "stdout",
     "output_type": "stream",
     "text": [
      "{'o': 2, 'r': 1, 'g': 1, 'a': 2, 'n': 2, 'i': 2, 'z': 1, 't': 1}\n"
     ]
    }
   ],
   "source": [
    "word = 'organization'\n",
    "mydict = {}\n",
    "for c in word:\n",
    "\tif c not in mydict:\n",
    "\t\tmydict[c] = 0\n",
    "\tmydict[c] += 1\n",
    "print(mydict)"
   ]
  },
  {
   "cell_type": "code",
   "execution_count": 166,
   "metadata": {},
   "outputs": [
    {
     "ename": "SyntaxError",
     "evalue": "invalid syntax (<ipython-input-166-1fd934c6388e>, line 5)",
     "output_type": "error",
     "traceback": [
      "\u001b[1;36m  File \u001b[1;32m\"<ipython-input-166-1fd934c6388e>\"\u001b[1;36m, line \u001b[1;32m5\u001b[0m\n\u001b[1;33m    {mydict[c]:0 if c not in mydict else mydict[c]+:1 for c in word}\u001b[0m\n\u001b[1;37m                                                   ^\u001b[0m\n\u001b[1;31mSyntaxError\u001b[0m\u001b[1;31m:\u001b[0m invalid syntax\n"
     ]
    }
   ],
   "source": [
    "word = 'organization'\n",
    "mydict = {}\n",
    "\n",
    "\n",
    "{mydict[c]:0 if c not in mydict else mydict[c]+:1 for c in word}"
   ]
  },
  {
   "cell_type": "code",
   "execution_count": 119,
   "metadata": {},
   "outputs": [
    {
     "name": "stdout",
     "output_type": "stream",
     "text": [
      "welcome\n"
     ]
    }
   ],
   "source": [
    "# Rewrite the following code in optimized way:\n",
    "list1 = ['w', 'e', 'l', 'c', 'o', 'm', 'e']\n",
    "result = ''\n",
    "for c in list1:\n",
    "\tresult = result + c\n",
    "print(result)"
   ]
  },
  {
   "cell_type": "code",
   "execution_count": 122,
   "metadata": {},
   "outputs": [
    {
     "name": "stdout",
     "output_type": "stream",
     "text": [
      "welcome\n"
     ]
    }
   ],
   "source": [
    "list1 = ['w', 'e', 'l', 'c', 'o', 'm', 'e']\n",
    "\n",
    "print(''.join(list1))"
   ]
  },
  {
   "cell_type": "code",
   "execution_count": 130,
   "metadata": {},
   "outputs": [],
   "source": [
    "#Rewrite the following code in optimized way:\n",
    "a = 1\n",
    "b = 2\n",
    "temp = a\n",
    "a = b\n",
    "b = temp"
   ]
  },
  {
   "cell_type": "code",
   "execution_count": 131,
   "metadata": {},
   "outputs": [
    {
     "name": "stdout",
     "output_type": "stream",
     "text": [
      "2 1\n"
     ]
    }
   ],
   "source": [
    "a = 1\n",
    "b = 2\n",
    "\n",
    "a = a+b\n",
    "\n",
    "b = a - b\n",
    "a = a-b\n",
    "\n",
    "print(a, b)"
   ]
  },
  {
   "cell_type": "markdown",
   "metadata": {},
   "source": [
    "Write a simple reg expression to get port number in the route 'http://00.0.0:3000/tickets/dashboard/1'"
   ]
  },
  {
   "cell_type": "code",
   "execution_count": 146,
   "metadata": {},
   "outputs": [
    {
     "data": {
      "text/plain": [
       "<_sre.SRE_Match object; span=(13, 18), match=':3000'>"
      ]
     },
     "execution_count": 146,
     "metadata": {},
     "output_type": "execute_result"
    }
   ],
   "source": [
    "import re\n",
    "\n",
    "url = 'http://00.0.0:3000/tickets/dashboard/1'\n",
    "pattern = r'[0-9]+'\n",
    "\n",
    "\n",
    "re.search(\":([0-9]+)\", url)\n"
   ]
  },
  {
   "cell_type": "markdown",
   "metadata": {},
   "source": [
    "Explain 'pass', 'break' and 'continue' with an example."
   ]
  },
  {
   "cell_type": "markdown",
   "metadata": {},
   "source": [
    "pass: is used to defind empty code blocks\n",
    "\n",
    "def myfun():pass\n",
    "\n",
    "class myclass:pass\n",
    "\n",
    "break: is used to break the loops based on some condition\n",
    "i = 1\n",
    "\n",
    "while(i):\n",
    "    print(i)\n",
    "    i +=1 \n",
    "    if (i == 5):\n",
    "        break\n",
    "        \n",
    "continue: is used to go to the next iteration based on condition, it will skip that iteration where the condition satisfies.\n",
    "i = 10\n",
    "\n",
    "while(i>1):\n",
    "    print(i)\n",
    "    i -=1 \n",
    "    if (i == 5):\n",
    "        continue\n",
    "\n"
   ]
  },
  {
   "cell_type": "code",
   "execution_count": 147,
   "metadata": {},
   "outputs": [
    {
     "name": "stdout",
     "output_type": "stream",
     "text": [
      "10\n",
      "9\n",
      "8\n",
      "7\n",
      "6\n",
      "5\n",
      "4\n",
      "3\n",
      "2\n"
     ]
    }
   ],
   "source": [
    "i = 10\n",
    "\n",
    "while(i>1):\n",
    "    print(i)\n",
    "    i -=1 \n",
    "    if (i == 5):\n",
    "        continue"
   ]
  },
  {
   "cell_type": "code",
   "execution_count": null,
   "metadata": {},
   "outputs": [],
   "source": [
    "def print_first_user(user_list):\n",
    "\t\tprint(<add_your_logic_here>)\n",
    "\t\t\n",
    "\ti) print_first_user(['group:dev@gmail.com', 'group:support@gmail.com', 'user:tom@gmail.com', 'user:jerry@gmail.com'])\n",
    "\t\tIt should print 'tom@gmail.com'\n",
    "\tii) print_first_user(['group:dev@gmail.com', 'user:admin@gmail.com', 'user:jerry@gmail.com'])\n",
    "\t\tIt should print  'jerry@gmail.com'\n",
    "\tiii) print_first_user(['group:dev@gmail.com'])\n",
    "\t\tIt should print None"
   ]
  },
  {
   "cell_type": "code",
   "execution_count": 155,
   "metadata": {},
   "outputs": [
    {
     "name": "stdout",
     "output_type": "stream",
     "text": [
      "tom@gmail.com\n",
      "admin@gmail.com\n",
      "None\n"
     ]
    }
   ],
   "source": [
    "def print_first_user(user_list):\n",
    "    for email in user_list:\n",
    "        if email.split(':')[0] == 'user':\n",
    "            return email.split(':')[1]\n",
    "            \n",
    "            \n",
    "print(print_first_user(['group:dev@gmail.com', 'group:support@gmail.com', 'user:tom@gmail.com', 'user:jerry@gmail.com']))\n",
    "print(print_first_user(['group:dev@gmail.com', 'user:admin@gmail.com', 'user:jerry@gmail.com']))\n",
    "print(print_first_user(['group:dev@gmail.com']))"
   ]
  },
  {
   "cell_type": "code",
   "execution_count": null,
   "metadata": {},
   "outputs": [],
   "source": []
  }
 ],
 "metadata": {
  "kernelspec": {
   "display_name": "Python 3",
   "language": "python",
   "name": "python3"
  },
  "language_info": {
   "codemirror_mode": {
    "name": "ipython",
    "version": 3
   },
   "file_extension": ".py",
   "mimetype": "text/x-python",
   "name": "python",
   "nbconvert_exporter": "python",
   "pygments_lexer": "ipython3",
   "version": "3.6.5"
  }
 },
 "nbformat": 4,
 "nbformat_minor": 4
}
