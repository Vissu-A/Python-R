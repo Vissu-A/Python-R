{
 "cells": [
  {
   "cell_type": "code",
   "execution_count": 3,
   "metadata": {},
   "outputs": [
    {
     "name": "stdout",
     "output_type": "stream",
     "text": [
      "['one', 'two', 'three']\n"
     ]
    }
   ],
   "source": [
    "words = ['one', 'one', 'two', 'three', 'three', 'two']\n",
    "uniquewords = []\n",
    "\n",
    "for word in words:\n",
    "    if word not in uniquewords:\n",
    "        uniquewords.append(word)\n",
    "    else:\n",
    "        continue\n",
    "        \n",
    "print(uniquewords)"
   ]
  },
  {
   "cell_type": "code",
   "execution_count": 8,
   "metadata": {},
   "outputs": [
    {
     "name": "stdout",
     "output_type": "stream",
     "text": [
      "['one', 'two', 'three']\n"
     ]
    }
   ],
   "source": [
    "words = ['one', 'one', 'two', 'three', 'three', 'two']\n",
    "\n",
    "d = dict.fromkeys(words, None)\n",
    "print(list(d.keys()))"
   ]
  }
 ],
 "metadata": {},
 "nbformat": 4,
 "nbformat_minor": 4
}
