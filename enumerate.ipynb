{
 "cells": [
  {
   "cell_type": "markdown",
   "metadata": {},
   "source": [
    "# enumerate\n",
    "\n",
    "# ---> enumerate() method adds counter to an iterable and returns it\n",
    "\n",
    "# Syntax:-\n",
    "    \n",
    "#       enumerate(iterable obj, start=0) ---> start = counter starting value"
   ]
  },
  {
   "cell_type": "code",
   "execution_count": 1,
   "metadata": {},
   "outputs": [
    {
     "name": "stdout",
     "output_type": "stream",
     "text": [
      "index 0 has value 10\n",
      "index 1 has value 20\n",
      "index 2 has value 30\n",
      "index 3 has value 40\n",
      "index 4 has value 50\n",
      "index 5 has value 60\n",
      "index 6 has value 70\n"
     ]
    }
   ],
   "source": [
    "lst = [10,20,30,40,50,60,70]\n",
    "\n",
    "for index, num in enumerate(lst):\n",
    "    print('index {} has value {}'.format(index, num))"
   ]
  },
  {
   "cell_type": "code",
   "execution_count": 2,
   "metadata": {},
   "outputs": [
    {
     "name": "stdout",
     "output_type": "stream",
     "text": [
      "index 3 has value 10\n",
      "index 4 has value 20\n",
      "index 5 has value 30\n",
      "index 6 has value 40\n",
      "index 7 has value 50\n",
      "index 8 has value 60\n",
      "index 9 has value 70\n"
     ]
    }
   ],
   "source": [
    "lst = [10,20,30,40,50,60,70]\n",
    "\n",
    "for index, num in enumerate(lst, start=3):\n",
    "    print('index {} has value {}'.format(index, num))"
   ]
  },
  {
   "cell_type": "code",
   "execution_count": null,
   "metadata": {},
   "outputs": [],
   "source": []
  }
 ],
 "metadata": {
  "kernelspec": {
   "display_name": "Python 3",
   "language": "python",
   "name": "python3"
  },
  "language_info": {
   "codemirror_mode": {
    "name": "ipython",
    "version": 3
   },
   "file_extension": ".py",
   "mimetype": "text/x-python",
   "name": "python",
   "nbconvert_exporter": "python",
   "pygments_lexer": "ipython3",
   "version": "3.6.5"
  }
 },
 "nbformat": 4,
 "nbformat_minor": 2
}
