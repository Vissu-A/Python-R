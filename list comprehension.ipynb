{
 "cells": [
  {
   "cell_type": "markdown",
   "metadata": {},
   "source": [
    "                                 List Comprehension\n",
    "\n",
    "Syntax:-\n",
    "    \n",
    "    [statement loop/loops condition]    --->  condition is optional"
   ]
  },
  {
   "cell_type": "code",
   "execution_count": 4,
   "metadata": {},
   "outputs": [
    {
     "name": "stdout",
     "output_type": "stream",
     "text": [
      "[(0, 0), (1, 1), (2, 4), (3, 9), (4, 16), (5, 25), (6, 36), (7, 49), (8, 64), (9, 81)]\n"
     ]
    }
   ],
   "source": [
    "# Creating a list containing tuple of number and it's square\n",
    "\n",
    "list = [(i, i**2) for i in range(10)] \n",
    "print(list)"
   ]
  },
  {
   "cell_type": "code",
   "execution_count": 7,
   "metadata": {},
   "outputs": [
    {
     "name": "stdout",
     "output_type": "stream",
     "text": [
      "original matrix:  [[1, 2, 3, 4], [5, 6, 7, 8], [9, 10, 11, 12]]\n",
      "transpose matrix:  [[1, 5, 9], [2, 6, 10], [3, 7, 11], [4, 8, 12]]\n"
     ]
    }
   ],
   "source": [
    "# Nested list comprehension\n",
    "\n",
    "# Matrix Transpose\n",
    "\n",
    "matrix = [[1,2,3,4], [5,6,7,8], [9,10,11,12]]    # 3*4 matrix ---> Transpose should be 4*3\n",
    "\n",
    "transmatrix = [ [row[i] for row in matrix] for i in range(4) ]\n",
    "\n",
    "print('original matrix: ', matrix)\n",
    "print('transpose matrix: ', transmatrix)"
   ]
  }
 ],
 "metadata": {
  "kernelspec": {
   "display_name": "Python 3",
   "language": "python",
   "name": "python3"
  },
  "language_info": {
   "codemirror_mode": {
    "name": "ipython",
    "version": 3
   },
   "file_extension": ".py",
   "mimetype": "text/x-python",
   "name": "python",
   "nbconvert_exporter": "python",
   "pygments_lexer": "ipython3",
   "version": "3.6.5"
  }
 },
 "nbformat": 4,
 "nbformat_minor": 2
}
