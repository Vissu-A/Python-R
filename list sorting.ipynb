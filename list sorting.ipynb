{
 "cells": [
  {
   "cell_type": "code",
   "execution_count": 2,
   "metadata": {},
   "outputs": [
    {
     "name": "stdout",
     "output_type": "stream",
     "text": [
      "None\n",
      "[1, 2, 3, 4, 5, 6, 7, 8, 9]\n",
      "None\n",
      "[9, 8, 7, 6, 5, 4, 3, 2, 1]\n"
     ]
    }
   ],
   "source": [
    "            # sort() method\n",
    "    \n",
    "\n",
    "# Sorting list in ASC(ascending order)\n",
    "\n",
    "l = [5,9,7,6,2,8,3,1,4]\n",
    "ascordlist = l.sort()      # By default order is ASC(ascending) order\n",
    "\n",
    "print(ascordlist)          # sort() method will not return new sorted list, instead it will sort the original list\n",
    "print(l)\n",
    "\n",
    "\n",
    "\n",
    "# Sorting list in DESC (descending order)\n",
    "\n",
    "l = [5,9,7,6,2,8,3,1,4]\n",
    "ascordlist = l.sort(reverse = True)      # DESC(descending) order\n",
    "\n",
    "print(ascordlist)                        # sort() method will not return new sorted list, instead it will sort the original list\n",
    "print(l)"
   ]
  },
  {
   "cell_type": "code",
   "execution_count": 4,
   "metadata": {},
   "outputs": [
    {
     "name": "stdout",
     "output_type": "stream",
     "text": [
      "Ascending order sorting:  [1, 2, 3, 4, 5, 6, 7, 8, 9]\n",
      "descending order sorting:  [9, 8, 7, 6, 5, 4, 3, 2, 1]\n"
     ]
    }
   ],
   "source": [
    "            # sorted() method\n",
    "    \n",
    "\n",
    "list = [7,5,1,4,6,3,9,2,8]\n",
    "\n",
    "# Sorting list in ASC(ascending order)\n",
    "\n",
    "Ascordlist = sorted(list)\n",
    "print(\"Ascending order sorting: \",Ascordlist)\n",
    "\n",
    "# Sorting list in DESC (descending order)\n",
    "\n",
    "Descordlist = sorted(list, reverse=True)\n",
    "print(\"descending order sorting: \",Descordlist)"
   ]
  },
  {
   "cell_type": "code",
   "execution_count": 3,
   "metadata": {},
   "outputs": [
    {
     "ename": "TypeError",
     "evalue": "'<' not supported between instances of 'str' and 'int'",
     "output_type": "error",
     "traceback": [
      "\u001b[1;31m---------------------------------------------------------------------------\u001b[0m",
      "\u001b[1;31mTypeError\u001b[0m                                 Traceback (most recent call last)",
      "\u001b[1;32m<ipython-input-3-31217cc87181>\u001b[0m in \u001b[0;36m<module>\u001b[1;34m\u001b[0m\n\u001b[0;32m      1\u001b[0m \u001b[0ml\u001b[0m \u001b[1;33m=\u001b[0m \u001b[1;33m[\u001b[0m\u001b[1;36m1\u001b[0m\u001b[1;33m,\u001b[0m \u001b[1;36m5\u001b[0m\u001b[1;33m,\u001b[0m \u001b[1;36m3\u001b[0m\u001b[1;33m,\u001b[0m \u001b[1;36m1.5\u001b[0m\u001b[1;33m,\u001b[0m \u001b[1;36m7.5\u001b[0m\u001b[1;33m,\u001b[0m \u001b[1;36m0.5\u001b[0m\u001b[1;33m,\u001b[0m \u001b[1;34m'x'\u001b[0m\u001b[1;33m,\u001b[0m \u001b[1;34m'z'\u001b[0m\u001b[1;33m,\u001b[0m \u001b[1;34m'a'\u001b[0m\u001b[1;33m]\u001b[0m\u001b[1;33m\u001b[0m\u001b[0m\n\u001b[0;32m      2\u001b[0m \u001b[1;33m\u001b[0m\u001b[0m\n\u001b[1;32m----> 3\u001b[1;33m \u001b[0ml\u001b[0m\u001b[1;33m.\u001b[0m\u001b[0msort\u001b[0m\u001b[1;33m(\u001b[0m\u001b[1;33m)\u001b[0m\u001b[1;33m\u001b[0m\u001b[0m\n\u001b[0m",
      "\u001b[1;31mTypeError\u001b[0m: '<' not supported between instances of 'str' and 'int'"
     ]
    }
   ],
   "source": [
    "# Sorting list with different datatypes\n",
    "\n",
    "l = [1, 5, 3, 1.5, 7.5, 0.5, 'x', 'z', 'a']\n",
    "\n",
    "l.sort()"
   ]
  }
 ],
 "metadata": {
  "kernelspec": {
   "display_name": "Python 3",
   "language": "python",
   "name": "python3"
  },
  "language_info": {
   "codemirror_mode": {
    "name": "ipython",
    "version": 3
   },
   "file_extension": ".py",
   "mimetype": "text/x-python",
   "name": "python",
   "nbconvert_exporter": "python",
   "pygments_lexer": "ipython3",
   "version": "3.6.5"
  }
 },
 "nbformat": 4,
 "nbformat_minor": 2
}
