{
 "cells": [
  {
   "cell_type": "markdown",
   "metadata": {},
   "source": [
    "# reduce()"
   ]
  },
  {
   "cell_type": "code",
   "execution_count": 1,
   "metadata": {},
   "outputs": [],
   "source": [
    "from functools import reduce"
   ]
  },
  {
   "cell_type": "code",
   "execution_count": 2,
   "metadata": {},
   "outputs": [
    {
     "name": "stdout",
     "output_type": "stream",
     "text": [
      "5040\n"
     ]
    }
   ],
   "source": [
    "lst = [1,2,3,4,5,6,7]\n",
    "\n",
    "productoflist = reduce(lambda x,y : x*y, lst)\n",
    "\n",
    "print(productoflist)"
   ]
  },
  {
   "cell_type": "markdown",
   "metadata": {},
   "source": [
    "# Explanation\n",
    "\n",
    "# step 1 => x = 1, y = 2   ------->   x*y = 2\n",
    "\n",
    "# step 2 => x = 2, y = 3   ------->   x*y = 6\n",
    "\n",
    "# step 3 => x = 6, y = 4   ------->   x*y = 24\n",
    "\n",
    "# step 4 => x = 24, y = 5   ------->   x*y = 120\n",
    "\n",
    "# step 5 => x = 120, y = 6   ------->   x*y = 720\n",
    "\n",
    "# step 6 => x = 720, y = 7   ------->   x*y = 5040"
   ]
  },
  {
   "cell_type": "code",
   "execution_count": null,
   "metadata": {},
   "outputs": [],
   "source": []
  }
 ],
 "metadata": {
  "kernelspec": {
   "display_name": "Python 3",
   "language": "python",
   "name": "python3"
  },
  "language_info": {
   "codemirror_mode": {
    "name": "ipython",
    "version": 3
   },
   "file_extension": ".py",
   "mimetype": "text/x-python",
   "name": "python",
   "nbconvert_exporter": "python",
   "pygments_lexer": "ipython3",
   "version": "3.6.5"
  }
 },
 "nbformat": 4,
 "nbformat_minor": 2
}
