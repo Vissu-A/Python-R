{
 "cells": [
  {
   "cell_type": "code",
   "execution_count": 2,
   "metadata": {},
   "outputs": [],
   "source": [
    "import pandas as pd\n",
    "import numpy as np\n",
    "import datetime\n",
    "import logger"
   ]
  },
  {
   "cell_type": "code",
   "execution_count": 5,
   "metadata": {},
   "outputs": [
    {
     "data": {
      "text/plain": [
       "[datetime.datetime(2019, 5, 15, 0, 0, 20),\n",
       " datetime.datetime(2019, 5, 15, 0, 0, 20),\n",
       " datetime.datetime(2019, 5, 15, 0, 0, 40),\n",
       " datetime.datetime(2019, 5, 15, 0, 0, 38),\n",
       " datetime.datetime(2019, 5, 15, 0, 0, 58),\n",
       " datetime.datetime(2019, 5, 15, 0, 0, 55),\n",
       " datetime.datetime(2019, 5, 15, 0, 1, 15),\n",
       " datetime.datetime(2019, 5, 15, 0, 1, 15),\n",
       " datetime.datetime(2019, 5, 15, 0, 1, 35),\n",
       " datetime.datetime(2019, 5, 15, 0, 1, 33),\n",
       " datetime.datetime(2019, 5, 15, 0, 1, 53),\n",
       " datetime.datetime(2019, 5, 15, 0, 1, 53),\n",
       " datetime.datetime(2019, 5, 15, 0, 2, 13),\n",
       " datetime.datetime(2019, 5, 15, 0, 2, 13),\n",
       " datetime.datetime(2019, 5, 15, 0, 2, 33),\n",
       " datetime.datetime(2019, 5, 15, 0, 2, 31),\n",
       " datetime.datetime(2019, 5, 15, 0, 2, 51)]"
      ]
     },
     "execution_count": 5,
     "metadata": {},
     "output_type": "execute_result"
    }
   ],
   "source": [
    "dates = []\n",
    "date  = datetime.datetime(2019, 5, 15)\n",
    "\n",
    "for i in range(17):\n",
    "\n",
    "    if(i%2 == 0):\n",
    "        ndate = date + datetime.timedelta(hours=0, minutes = 0, seconds = 20)\n",
    "    elif(i%3 == 0):\n",
    "        ndate = date - datetime.timedelta(hours=0, minutes = 0, seconds = 2)\n",
    "    elif(i%4 == 0):\n",
    "        ndate = date - datetime.timedelta(hours=0, minutes = 0, seconds = 10)\n",
    "    elif(i%5 == 0):\n",
    "        ndate = date - datetime.timedelta(hours=0, minutes = 0, seconds = 3)\n",
    "    else:\n",
    "        ndate = date + datetime.timedelta(hours=0 ,minutes=0, seconds = 0)\n",
    "        \n",
    "    dates.append(ndate)\n",
    "    date = ndate\n",
    "\n",
    "dates"
   ]
  },
  {
   "cell_type": "code",
   "execution_count": 8,
   "metadata": {},
   "outputs": [
    {
     "name": "stdout",
     "output_type": "stream",
     "text": [
      "                            A         B         C         D\n",
      "2019-05-15 00:00:20 -0.960066  0.413707 -1.377400 -1.002626\n",
      "2019-05-15 00:00:20 -0.886869  0.422776 -1.106182 -1.486319\n",
      "2019-05-15 00:00:40 -0.096105 -0.102055  0.276345 -0.782738\n",
      "2019-05-15 00:00:38 -0.126549 -0.575007 -0.511843 -1.336956\n",
      "2019-05-15 00:00:58 -0.014829  1.113025  0.914659  0.331295\n",
      "2019-05-15 00:00:55 -2.124429 -1.138002  0.224648 -0.049879\n",
      "2019-05-15 00:01:15 -1.201261  1.006790  2.551382 -0.358086\n",
      "2019-05-15 00:01:15 -0.560281  0.086548 -0.392928  1.421808\n",
      "2019-05-15 00:01:35 -0.724767 -0.533443 -0.279261  0.854617\n",
      "2019-05-15 00:01:33  1.110426  0.449788 -0.929471  1.019215\n",
      "2019-05-15 00:01:53 -1.404215 -1.855989  0.000110 -0.676832\n",
      "2019-05-15 00:01:53 -0.112373  0.688080 -0.515549  1.124070\n",
      "2019-05-15 00:02:13 -0.330233 -0.109917  0.032900 -1.070363\n",
      "2019-05-15 00:02:13  0.548199  0.517943  0.640609  0.278517\n",
      "2019-05-15 00:02:33 -0.651787 -0.121548  0.579289 -0.330294\n",
      "2019-05-15 00:02:31  0.585318 -1.702853 -0.171841 -0.240879\n",
      "2019-05-15 00:02:51 -0.668249 -1.458024 -1.150569 -0.181437\n",
      "Index(['A', 'B', 'C', 'D'], dtype='object')\n"
     ]
    }
   ],
   "source": [
    "df = pd.DataFrame(np.random.randn(17, 4), index=dates, columns=['A', 'B', 'C', 'D'])\n",
    "print(df)\n",
    "print(df.columns)"
   ]
  },
  {
   "cell_type": "code",
   "execution_count": 10,
   "metadata": {},
   "outputs": [],
   "source": [
    "def find_sampling_freq(ts):\n",
    "    # assert ts.index is datetime object\n",
    "    try:\n",
    "        # For non-NA values, check time difference in seconds in each timestamp record for each metric\n",
    "        sf = pd.Series(ts.index).diff().dropna().dt.seconds\n",
    "        # logger.info('Info: Found natural sampling frequency')\n",
    "    except:\n",
    "        logger.exception('Error: Cannot find natural sampling frequency.')\n",
    "        \n",
    "    # Only keep record with timestamp difference greater than 0 seconds\n",
    "    sf = sf[sf > 0]\n",
    "    # if the series has different timestamp, take the mininum value from the mode as the sampling frequency\n",
    "    if len(sf) > 0:\n",
    "        sampling_frequency = int(sf.mode().values.min())\n",
    "    # Otherwise, sampling frequency is 0\n",
    "    else:\n",
    "        sampling_frequency = 0\n",
    "    return ts, sampling_frequency"
   ]
  },
  {
   "cell_type": "code",
   "execution_count": 13,
   "metadata": {},
   "outputs": [],
   "source": [
    "samp_freqs = find_sampling_freq(df['A'])"
   ]
  },
  {
   "cell_type": "code",
   "execution_count": 26,
   "metadata": {},
   "outputs": [
    {
     "name": "stdout",
     "output_type": "stream",
     "text": [
      "2019-05-15 00:00:20   -0.960066\n",
      "2019-05-15 00:00:20   -0.886869\n",
      "2019-05-15 00:00:40   -0.096105\n",
      "2019-05-15 00:00:38   -0.126549\n",
      "2019-05-15 00:00:58   -0.014829\n",
      "2019-05-15 00:00:55   -2.124429\n",
      "2019-05-15 00:01:15   -1.201261\n",
      "2019-05-15 00:01:15   -0.560281\n",
      "2019-05-15 00:01:35   -0.724767\n",
      "2019-05-15 00:01:33    1.110426\n",
      "2019-05-15 00:01:53   -1.404215\n",
      "2019-05-15 00:01:53   -0.112373\n",
      "2019-05-15 00:02:13   -0.330233\n",
      "2019-05-15 00:02:13    0.548199\n",
      "2019-05-15 00:02:33   -0.651787\n",
      "2019-05-15 00:02:31    0.585318\n",
      "2019-05-15 00:02:51   -0.668249\n",
      "Name: A, dtype: float64\n",
      "20\n"
     ]
    }
   ],
   "source": [
    "for i in range(len(samp_freqs)):\n",
    "    print(samp_freqs[i])"
   ]
  },
  {
   "cell_type": "code",
   "execution_count": 29,
   "metadata": {},
   "outputs": [],
   "source": [
    "def aggregate_ts(ts, orig_frequency, new_frequency):\n",
    "    # Compare the calculated sampling frequency with the defined re-sample frequency\n",
    "    # resample\n",
    "    print(orig_frequency)\n",
    "    print(new_frequency)\n",
    "    if orig_frequency <= new_frequency:\n",
    "        # print(ts.name, new_frequency)\n",
    "        if ts.dtypes != 'object':\n",
    "            ts_new = ts.resample(str(new_frequency)+'s').first().interpolate()\n",
    "        else:\n",
    "            ts_new = ts.resample(str(new_frequency)+'s').first()\n",
    "    else:\n",
    "        # print(ts.name, orig_frequency)\n",
    "        if ts.dtypes != 'object':\n",
    "            ts_new = ts.resample(str(orig_frequency)+'s').first().interpolate()\n",
    "        else:\n",
    "            ts_new = ts.resample(str(orig_frequency)+'s').first()\n",
    "    # print(ts_new.name, ts_new.dtypes)\n",
    "    return ts_new"
   ]
  },
  {
   "cell_type": "code",
   "execution_count": 30,
   "metadata": {},
   "outputs": [
    {
     "name": "stdout",
     "output_type": "stream",
     "text": [
      "20\n",
      "30\n"
     ]
    },
    {
     "data": {
      "text/plain": [
       "2019-05-15 00:00:00   -0.960066\n",
       "2019-05-15 00:00:30   -0.126549\n",
       "2019-05-15 00:01:00   -1.201261\n",
       "2019-05-15 00:01:30    1.110426\n",
       "2019-05-15 00:02:00   -0.330233\n",
       "2019-05-15 00:02:30    0.585318\n",
       "Freq: 30S, Name: A, dtype: float64"
      ]
     },
     "execution_count": 30,
     "metadata": {},
     "output_type": "execute_result"
    }
   ],
   "source": [
    "aggregate_ts(samp_freqs[0],samp_freqs[1],30)"
   ]
  }
 ],
 "metadata": {
  "kernelspec": {
   "display_name": "Python 3",
   "language": "python",
   "name": "python3"
  },
  "language_info": {
   "codemirror_mode": {
    "name": "ipython",
    "version": 3
   },
   "file_extension": ".py",
   "mimetype": "text/x-python",
   "name": "python",
   "nbconvert_exporter": "python",
   "pygments_lexer": "ipython3",
   "version": "3.6.5"
  }
 },
 "nbformat": 4,
 "nbformat_minor": 2
}
